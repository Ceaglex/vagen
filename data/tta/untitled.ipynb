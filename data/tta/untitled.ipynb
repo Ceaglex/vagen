{
 "cells": [
  {
   "cell_type": "code",
   "execution_count": 2,
   "id": "cbf2c20f",
   "metadata": {},
   "outputs": [
    {
     "data": {
      "text/plain": [
       "(208900,\n",
       " {'audio_caption': 'Shaking a bean bag to sound like walking in tall grass.'})"
      ]
     },
     "execution_count": 2,
     "metadata": {},
     "output_type": "execute_result"
    }
   ],
   "source": [
    "from glob import glob\n",
    "import os\n",
    "import json\n",
    "\n",
    "json_file_list = [\n",
    " '/data-87-03/yuyue/datasets/wavcaps/json_files/BBC_Sound_Effects/bbc_final.json',\n",
    " '/data-87-03/yuyue/datasets/wavcaps/json_files/SoundBible/sb_final.json',\n",
    " '/data-87-03/yuyue/datasets/wavcaps/json_files/AudioSet_SL_flac/as_final.json',\n",
    " '/data-87-03/yuyue/datasets/wavcaps/json_files/FreeSound/fsd_final.json',\n",
    "#  '/data-87-03/yuyue/datasets/wavcaps/json_files/blacklist/blacklist_exclude_test_ac.json',\n",
    "#  '/data-87-03/yuyue/datasets/wavcaps/json_files/blacklist/blacklist_exclude_ub8k_esc50_vggsound.json',\n",
    "#  '/data-87-03/yuyue/datasets/wavcaps/json_files/blacklist/blacklist_exclude_all_ac.json',\n",
    "]\n",
    "\n",
    "second_thread = 11\n",
    "re = dict()\n",
    "for json_file in json_file_list:\n",
    "    with open(json_file, 'r') as file:\n",
    "        data = json.load(file)\n",
    "    \n",
    "    for info in data['data']:\n",
    "        \n",
    "        idx = info[\"id\"][:-4] if info[\"id\"].endswith('.wav') else info[\"id\"]\n",
    "        flac_path = f'/data-87-03/yuyue/datasets/wavcaps/wav_data/{json_file.split(\"/\")[-2]}/{idx}.flac'\n",
    "        if not os.path.exists(flac_path) or info['duration'] > second_thread:\n",
    "            # print(flac_path)\n",
    "            continue\n",
    "        # d['audio_path'] = flac_path\n",
    "        re[flac_path] = {\"audio_caption\": info['caption']}\n",
    "    \n",
    "len(re), re[flac_path]"
   ]
  },
  {
   "cell_type": "code",
   "execution_count": null,
   "id": "33e70622",
   "metadata": {},
   "outputs": [
    {
     "name": "stdout",
     "output_type": "stream",
     "text": [
      "youtube_id 9T1QT2OQ0iM 90uYgzfHZxo 10RQxUIBTBU 6uOzzr5WPPU Yq7AzNoByHQ cnWZjejdwCM 2DsCAp68L18 1LY9j6EYAd8 bKbsPXcVBAI Jd5gy8IkI6A 5BUqA6zPREQ 6SujCvS39ig hZeqpirMQIA FWwFkZR4IqE AyPqm-tm2y4 H3znbPaPfL4 5U3YYrJabIQ -dg95jfWnP4 eWyg3HzR_Qo BVyAru1FDSg Mi9QA7NqRNk 3FwzJciQWq0 97B8WF-AHlg 1Ruw8hFefO0 NGPBlFWUrX0 3BOM4ZCP9f0 kZkmHTbS-Lc -nKy0zN4KVQ -rmnuALwnG0 YmcngI0QyvM GfOU0rW09Wg XE9XTkYD1pY 5XnjpgURugA A-ilwnVdZe4 A1LI2sGliaI 1IKMdBm4p0M 9wG9FrZN-8E 00HwP4YGQC4 2rhwJZ0cy3Y 3zmjqc-csQQ 2-2V3XHpBM8 fKJkguUPQ-M -uNTLpkNGHk BEkIKLVMAgA 8vnb6y7xRlI 8vrGEY3N_2U 4r6EpTvwZKs 6BpUKxf4c0Y 4PtuDVVvu-c 7TFH3ih6gbM -PK81pz3534 0xjrw60KFh0 OpGOdOjYwyk gYBCXXBAVoE 1RlJ7dvh5uQ 25BKXaN9y8c AhFnIwiRDuE SjjR7qq7P9g 9uvNvu3s2z8 MbO3Dkew4iM TNn0Qm6uh_o 6LvWwldXjzU r_F5gppUzRo 7xulC0Oa644 7ihcxu0eyVM 3pAJ8yjmC-U 317iLa-c9tc wKlMz_Sn2NM 5KiysMQvFDQ 9DJCYjwNIII 9NlRI1h14TQ -oVAWScjtJU CHjclKFVL7A _D_7Jip2TrI 1ylvtUqXkF4 kwcjvoqsu_M 61-cqnM_AGo 6VglYA9sUZc 7MTZW-2MayY 8pbpzdwlM90 B80W95e55NM 0qeurr_yeKc 5JRiLHzqFLE PEUVdcgGhnw Zg2HLgAOLYw miTCmCkCoWw 18xB5jssbMc 1s5bfkJiw2Q 2E_JeRdGtqA 2-peTtARG7Q 4Z62K7wv6Po 3EMG6FoGAgk sngobJaZFDg QNemY6NXcns j3wnFuRcIH8 2_mph9L7MIw 791V15vC45I xb3Bhxg-2QM 5e0xk6PN2eM 2n38yofjDos 6LdjxJAgiq0 Cz-oU-x9ivQ 3_DWh-z9tns 2kUC-0mhXNU 6eQcUXzEIBU _cftZK6mT8M 3y9LUPj488c RyNuT1R898s DNXm4P3nPkQ -vng72w19Vs hNeeIQqS6iI ht8D0j5Okgg THm9z4OkEU0 6L7otsKDRwg 4XUIiVlroLg -gRrVB-eMhQ 2fkv8GVHyec 2dXXYq7BJAc 9Q2uctLc39c rju3egAzB0E bhpACkL-nec 6uZuewHMF1s Avq05TljcgM 9TaetitttZ8 VSejEhu-4W4 1zfUZuLV-p8 qDuLh-cCJ04 2YyB3eYx5Ks 4zF-37eEX7A 0uDn_RynId0 2Hd34MZOSvQ -zj4jLST1ns 3c6h-RiYoR0 YcXaSLlw0YI 0lQ1FAPh9-Y 1DiL_Cul4mo CU2U5QORnFU gen5PuHy-jU Nizg8vb_RlY 3a7GiNItsvQ 6gQ3acABvCk -Zm8TgonFGc 8K6acvCdQqU 14XSF2FAJSY 1AUgCj-xjt8 Xni0Q7Sye1s p-atpB9mHPY 2G4h0hmUm70 kdbYiY9TuxE -hTBM453Udc H_7ASyrlaWk 0p0rwDv8Mg4 47LrHzW0SF0 jfUILHQUWZ4 2QyC5wYs5K8 L3k_g5RF93Y -U1x6pI9z_8 -TvBtWs2VGY 2xSpPJkPJqo yJBM8-8kde0 2Ioydh6iMok RVC-OosMI74 ocr1UU4GnJw bQBefITq8Zk 445ykTPPvwY 3k0xO80irA8 61hpWLkTlIA VOTrbadILTg 6Iw1y0wDsGQ 7SJgHwckctE 2V-hq0N8Om0 4dJTc01m0UQ kX9sFsjfzbQ CNK819acFQw Vd3kwnl1yvQ 86y3xmM6Gm0 8766KGXxUnY 4JivfcurKs8 5jLgU3vg-JQ V-K8WoLzWm0 5CRd8-YGBtg 72TpwrFmbuA 3u3Do2iz354 2_CEmr_ppv0 FFQ-8JQ3x9A SK9dq1BnDpY 9rVi7F_KuJo 6Df6I_k0xUw 2-yexB89cnQ hslbSOT86vw 5rbwpV8I4Lg 1vqJuuJh5VU IrJY5q_YVeI -x0bMWD8ftg 5iFCL_ZZqbw 1p9CYyk7fVo BCLb1XwffqU fRVOdEMb2Pc 0jOXOsZ2a1c iHK8hs7vpAE 93qGyMX0Weo 1ZYfLkEDluc lvVIBxoqQ5o 67GgD6ujEyU 5vRKXopvjfc 7cq-i8Fuofw 51f6k-LkJvE L_0rlJ6YlYo 18gI0o5AZps 3N6mZM_4T6Y -_TT79lrHvU 7H3L6MrPZns 7M6pWV4u75I 24gr8C6KgXw kwi4qU_drtc 3q-jPClCFOg 3q-GvvRnuQ4 2viq7edyiWw 0CahCF_csFE 90VzFPs3lR8 10BtIfnWGMw LsLRGH2iAxA 3-sE0-NTByI 3-spZ98FHZc 6SOTtKOTPFw 26hZPk-h2AI VnjS3-Ia0B8 AgGWg9UbOqA 8a1xHYaeBvk ndR49XEAfjQ yv3wB9P4Cnk 8T544ueo-b4 4KoEyoQ3_tM EDr63MyYXYQ R2qgQu9AETc 0LL5RUikl94 1psUujzbNZ8 3_p61xXE5oE 29EOirm_fI4 UG4VOAoHvKE 7Rxc-505fkI 2NyC-5GQt3s 0vGLz3G1lUk aZP36I7mhMQ WVb2zCSZ87s 0oRNEnJevEA 5oCorN0ARBM 5o00xv6EDEg 9PbvmmOT6c8 wuxx8ogvcAo LP2Ek6LyGbk 6b8aL9Ir450 3jX682ZcJU8 40oBU5oboag k1VsTEaJ1xk 8o4EurrqLBk 0wjQln01mG0 4n657Imjmjo cvU6PbRnNyA B3gFIk1w03E kZonXWE9-4s 3aY35p7bDoU 9Cuxuo7D57g cifwfYRsgmM 2HIcBRftdHQ AhJSF7zatjU Drvn9JyoYCs gRnfzyMA1ik 4UGYcEU4xHg 9zxCeW7vGvk Xs3c2R46JXA 0J8EN74Jy1A 9VaJgwKnDio 01E5U5aYw7o Ky1kCT3jclk kBDDVQyj778 11ZZKGBNDlo 8AsYvCXAWp0 Ezt3XIA9Pc4 6av6qI0plBQ PzUAXrbNGtY 6zjaE59Vb8k SBBf8XztA9I OCSFHVfVRyI 4yT3jn57Eos 6VUXazNX1Nw 0sz1ZOvAlfA 0t54mKmiTgQ 2PYlqsbVsWc TDsP__WV5og 14JjWndlQho Sy1WHgh1J8Y 52tdbEqLRsM 1gQP0HtOrsM c2U0Dx95erk R2H2xVVjmD0 Yz5i-QMdHLQ BGrD4zkWx9o GPxLqM7VYWU 6S-ibb2K7U8 rWc3Z273-DI IQ1pMLGZ3Go 25xmzj52OGE 72TgtfAyEdU mo-Wg8zynJw 4a4EPShrt_E dWw-5nvdpfQ 9Sc6odMfWo0 ngHHkykhE5o 33kNjP7bbkc 33k5WXCqD1U 19aZ2pEyZIM xNqghKn0VZc 0_suOKpllWU LEla9lcM_B4 3oUDKIIHuio 33TKq1r0NT0 Uup-yi0y_YQ Upl7agV0Yws 0KmOWoumm2s 1TAdfd8_ogs cUoT9kEJ5_4 5wY5bdhtJ2g 8FhqQ9illbY 7RafnusmngA Iw_yySqH3Zc 6Nx8nqURy0c YWhRAbGRy4k 5vG0D6bLo9c QbUtxhg5KNM yVjpon4cVno cYNUcPGIvnA 2TWT-0iBotE E1Wkc6yu-tQ 2yRlkPqa6rQ 0qzvvMd5dvo "
     ]
    },
    {
     "data": {
      "text/plain": [
       "258402"
      ]
     },
     "execution_count": 3,
     "metadata": {},
     "output_type": "execute_result"
    }
   ],
   "source": [
    "import pandas as pd\n",
    "import csv\n",
    "from glob import glob\n",
    "\n",
    "# Read train.csv line by line\n",
    "file_to_path = dict()\n",
    "\n",
    "for file_path in glob('/data-04/xihua/data/audiocaps/audiocaps_haohe/audioset/zip_audios/*/*/*.wav'):\n",
    "    file = file_path.split('/')[-1][1:-4]\n",
    "    file_to_path[file] = file_path\n",
    "\n",
    "# re = dict()\n",
    "# save_path = '/home/chengxin/chengxin/vagen/data/tta/test_freesound_audiocaps.json'\n",
    "with open('/data-04/xihua/data/audiocaps/audiocaps_haohe/metadata/audiocaps/train.csv', 'r') as file:\n",
    "    csv_reader = csv.reader(file)\n",
    "    for line in csv_reader:\n",
    "        d = dict()\n",
    "        if line[1] not in file_to_path:\n",
    "            print(line[1], end=\" \")\n",
    "            continue\n",
    "        # d['audio_path'] = file_to_path[line[1]]\n",
    "        file_name = file_to_path[line[1]]\n",
    "        re[file_name] = {\"audio_caption\": line[3]}\n",
    "        # d['audio_caption'] = line[3]\n",
    "        # re.append(d)\n",
    "\n",
    "len(re)"
   ]
  },
  {
   "cell_type": "code",
   "execution_count": 4,
   "id": "0be71446",
   "metadata": {},
   "outputs": [
    {
     "data": {
      "text/plain": [
       "({'audio_caption': 'Humming with a distant train horn blowing'},\n",
       " '/data-04/xihua/data/audiocaps/audiocaps_haohe/audioset/zip_audios/unbalanced_train_segments/unbalanced_train_segments_part15/YHC-utKUX3a4.wav')"
      ]
     },
     "execution_count": 4,
     "metadata": {},
     "output_type": "execute_result"
    }
   ],
   "source": [
    "import json\n",
    "\n",
    "save_path = '/home/chengxin/chengxin/vagen/data/tta/train_wavcaps_audiocaps_d10.json'\n",
    "\n",
    "with open(save_path, 'w', encoding='utf-8') as file:\n",
    "    json.dump(re, file, ensure_ascii=False, indent=4)\n",
    "re[file_to_path[line[1]]], file_to_path[line[1]]"
   ]
  },
  {
   "cell_type": "code",
   "execution_count": 16,
   "id": "ba000016",
   "metadata": {},
   "outputs": [
    {
     "name": "stderr",
     "output_type": "stream",
     "text": [
      "100%|██████████| 200/200 [00:15<00:00, 13.17it/s]\n",
      "100%|██████████| 200/200 [00:15<00:00, 13.22it/s]\n",
      "100%|██████████| 200/200 [00:15<00:00, 13.18it/s]\n"
     ]
    }
   ],
   "source": [
    "import torch\n",
    "import soundfile as sf\n",
    "from diffusers import StableAudioPipeline\n",
    "import json\n",
    "\n",
    "\n",
    "pipe = StableAudioPipeline.from_pretrained(\"/home/chengxin/chengxin/vagen/assets/stable-audio-open-1.0\", torch_dtype=torch.float16)\n",
    "pipe = pipe.to(\"cuda\")\n",
    "\n",
    "# define the prompts\n",
    "prompt = \"The sound of a hammer hitting a wooden surface.\"\n",
    "negative_prompt = \"Low quality.\"\n",
    "\n",
    "# set the seed for generator\n",
    "generator = torch.Generator(\"cuda\").manual_seed(0)\n",
    "\n",
    "\n",
    "with open('/home/chengxin/chengxin/vagen/data/avsync/avsync-test-72B-captions.json', 'r') as f:\n",
    "    data = json.load(f)\n",
    "\n",
    "for path, info in data.items():\n",
    "    audio = pipe(\n",
    "        info['audio_caption'],\n",
    "        negative_prompt=negative_prompt,\n",
    "        num_inference_steps=200,\n",
    "        audio_end_in_s=5.0,\n",
    "        num_waveforms_per_prompt=3,\n",
    "        generator=generator,\n",
    "    ).audios\n",
    "\n",
    "    output = audio[0].T.float().cpu().numpy()\n",
    "    sf.write(f\"/home/chengxin/chengxin/Dataset_Sound/VGGSound/generated_audios/stableaudio/avsync/{path.split('/')[-1].replace('.mp4', '.wav')}\", output, pipe.vae.sampling_rate)"
   ]
  },
  {
   "cell_type": "code",
   "execution_count": null,
   "id": "ff878139",
   "metadata": {},
   "outputs": [
    {
     "name": "stdout",
     "output_type": "stream",
     "text": [
      "1271 0\n"
     ]
    },
    {
     "ename": "",
     "evalue": "",
     "output_type": "error",
     "traceback": [
      "\u001b[1;31mThe Kernel crashed while executing code in the current cell or a previous cell. \n",
      "\u001b[1;31mPlease review the code in the cell(s) to identify a possible cause of the failure. \n",
      "\u001b[1;31mClick <a href='https://aka.ms/vscodeJupyterKernelCrash'>here</a> for more info. \n",
      "\u001b[1;31mView Jupyter <a href='command:jupyter.viewOutput'>log</a> for further details."
     ]
    },
    {
     "ename": "",
     "evalue": "",
     "output_type": "error",
     "traceback": [
      "\u001b[1;31mThe Kernel crashed while executing code in the current cell or a previous cell. \n",
      "\u001b[1;31mPlease review the code in the cell(s) to identify a possible cause of the failure. \n",
      "\u001b[1;31mClick <a href='https://aka.ms/vscodeJupyterKernelCrash'>here</a> for more info. \n",
      "\u001b[1;31mView Jupyter <a href='command:jupyter.viewOutput'>log</a> for further details."
     ]
    }
   ],
   "source": [
    "import json, os\n",
    "\n",
    "read_path = '/home/chengxin/chengxin/vagen/data/tta/train_avsync.json'\n",
    "save_path = '/home/chengxin/chengxin/vagen/data/tta/train_avsync.json'\n",
    "with open(read_path, 'r') as file:\n",
    "    data = json.load(file)\n",
    "\n",
    "i = 0\n",
    "re = dict()\n",
    "for path, info in data.items():\n",
    "    info['audio_caption'] = info['label'].replace('_', \" \")\n",
    "    re[path] = info\n",
    "#     path = f'/home/chengxin/chengxin/Dataset_Sound/VGGSound/dataset/test/10/{name}'\n",
    "#     if not os.path.exists(path):\n",
    "#         i += 1\n",
    "#     re[path] = info\n",
    "\n",
    "print(len(re), i)\n",
    "with open(save_path, 'w') as file:\n",
    "    json.dump(re, file, indent=4)"
   ]
  }
 ],
 "metadata": {
  "kernelspec": {
   "display_name": "veo3",
   "language": "python",
   "name": "python3"
  },
  "language_info": {
   "codemirror_mode": {
    "name": "ipython",
    "version": 3
   },
   "file_extension": ".py",
   "mimetype": "text/x-python",
   "name": "python",
   "nbconvert_exporter": "python",
   "pygments_lexer": "ipython3",
   "version": "3.10.16"
  }
 },
 "nbformat": 4,
 "nbformat_minor": 5
}
