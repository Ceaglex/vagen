{
 "cells": [
  {
   "cell_type": "code",
   "execution_count": null,
   "id": "c37aafab",
   "metadata": {},
   "outputs": [],
   "source": [
    "import torch\n",
    "from model.wan.pipeline_wan_ttv import AutoencoderKLWan, WanPipeline\n",
    "from diffusers.utils import export_to_video\n",
    "from model.wan.wan_transformer_for_video import WanTransformer3DModel\n",
    "\n",
    "\n",
    "# Available models: Wan-AI/Wan2.1-T2V-14B-Diffusers, Wan-AI/Wan2.1-T2V-1.3B-Diffusers\n",
    "model_id = './assets/Wan2.1-T2V-1.3B-Diffusers'\n",
    "load_dtype = torch.float32\n",
    "transformer = WanTransformer3DModel.from_pretrained(\n",
    "        model_id, subfolder=\"transformer\", \n",
    "        torch_dtype=load_dtype, \n",
    "        local_files_only=True,\n",
    "        # low_cpu_mem_usage=False, \n",
    "        use_safetensors=True,\n",
    "        ignore_mismatched_sizes=True,      # Setting for model structure changes\n",
    "    )"
   ]
  },
  {
   "cell_type": "code",
   "execution_count": 4,
   "id": "24e6617b",
   "metadata": {},
   "outputs": [
    {
     "name": "stderr",
     "output_type": "stream",
     "text": [
      "Loading checkpoint shards: 100%|██████████| 5/5 [00:01<00:00,  3.48it/s]\n",
      "Loading checkpoint shards: 100%|██████████| 2/2 [00:00<00:00,  8.21it/s]s/it]\n",
      "Loading pipeline components...: 100%|██████████| 5/5 [00:02<00:00,  2.30it/s]\n",
      "100%|██████████| 50/50 [02:30<00:00,  3.01s/it]\n",
      "huggingface/tokenizers: The current process just got forked, after parallelism has already been used. Disabling parallelism to avoid deadlocks...\n",
      "To disable this warning, you can either:\n",
      "\t- Avoid using `tokenizers` before the fork if possible\n",
      "\t- Explicitly set the environment variable TOKENIZERS_PARALLELISM=(true | false)\n"
     ]
    },
    {
     "data": {
      "text/plain": [
       "'output.mp4'"
      ]
     },
     "execution_count": 4,
     "metadata": {},
     "output_type": "execute_result"
    }
   ],
   "source": [
    "import torch\n",
    "from diffusers.utils import export_to_video\n",
    "from diffusers import AutoencoderKLWan, WanPipeline\n",
    "from diffusers.schedulers.scheduling_unipc_multistep import UniPCMultistepScheduler\n",
    "\n",
    "# Available models: Wan-AI/Wan2.1-T2V-14B-Diffusers, Wan-AI/Wan2.1-T2V-1.3B-Diffusers\n",
    "model_id = \"./assets/Wan2.1-T2V-1.3B-Diffusers\"\n",
    "vae = AutoencoderKLWan.from_pretrained(model_id, subfolder=\"vae\", torch_dtype=torch.float16)\n",
    "flow_shift = 5.0 # 5.0 for 720P, 3.0 for 480P\n",
    "scheduler = UniPCMultistepScheduler(prediction_type='flow_prediction', use_flow_sigmas=True, num_train_timesteps=1000, flow_shift=flow_shift)\n",
    "pipe = WanPipeline.from_pretrained(model_id, vae=vae, torch_dtype=torch.float16)\n",
    "pipe.scheduler = scheduler\n",
    "pipe.to(\"cuda\")\n",
    "\n",
    "prompt = \"A cat and a dog baking a cake together in a kitchen. The cat is carefully measuring flour, while the dog is stirring the batter with a wooden spoon. The kitchen is cozy, with sunlight streaming through the window.\"\n",
    "negative_prompt = \"Bright tones, overexposed, static, blurred details, subtitles, style, works, paintings, images, static, overall gray, worst quality, low quality, JPEG compression residue, ugly, incomplete, extra fingers, poorly drawn hands, poorly drawn faces, deformed, disfigured, misshapen limbs, fused fingers, still picture, messy background, three legs, many people in the background, walking backwards\"\n",
    "\n",
    "output = pipe(\n",
    "     prompt=prompt,\n",
    "     negative_prompt=negative_prompt,\n",
    "     height=480,\n",
    "     width=832,\n",
    "     num_frames=81,\n",
    "     guidance_scale=5.0,\n",
    "    ).frames[0]\n",
    "export_to_video(output, \"output.mp4\", fps=16)"
   ]
  },
  {
   "cell_type": "code",
   "execution_count": null,
   "id": "ce27c133",
   "metadata": {},
   "outputs": [
    {
     "ename": "",
     "evalue": "",
     "output_type": "error",
     "traceback": [
      "\u001b[1;31mThe Kernel crashed while executing code in the current cell or a previous cell. \n",
      "\u001b[1;31mPlease review the code in the cell(s) to identify a possible cause of the failure. \n",
      "\u001b[1;31mClick <a href='https://aka.ms/vscodeJupyterKernelCrash'>here</a> for more info. \n",
      "\u001b[1;31mView Jupyter <a href='command:jupyter.viewOutput'>log</a> for further details."
     ]
    }
   ],
   "source": [
    "import gc\n",
    "import os\n",
    "from tqdm import tqdm\n",
    "from diffusers import AutoModel\n",
    "from diffusers.training_utils import cast_training_params, free_memory\n",
    "import torch\n",
    "from torch.cuda.amp import autocast\n",
    "\n",
    "from diffusers.utils.torch_utils import randn_tensor\n",
    "from diffusers.video_processor import VideoProcessor\n",
    "from omegaconf import OmegaConf\n",
    "from model.wan.wan_transformer_for_video import WanTransformer3DModel\n",
    "from model.wan.pipeline_wan_ttv import FlowMatchEulerDiscreteScheduler, AutoencoderKLWan, WanPipeline\n",
    "from diffusers.schedulers.scheduling_unipc_multistep import UniPCMultistepScheduler\n",
    "from utils.text_encoding import get_t5_prompt_embeds, encode_prompt\n",
    "from diffusers.utils import check_min_version, convert_unet_state_dict_to_peft, export_to_video, is_wandb_available\n",
    "\n",
    "\n",
    "\n",
    "args = OmegaConf.load(\"/home/chengxin/chengxin/vagen/config/ttv_wan.yaml\")\n",
    "infer_dtype = torch.float16\n",
    "load_dtype = torch.float32\n",
    "device = \"cuda:1\"\n",
    "\n",
    "vae = AutoencoderKLWan.from_pretrained(\n",
    "    args.pretrained_model_name_or_path, subfolder=\"vae\", \n",
    "    torch_dtype=load_dtype\n",
    ").to(device)\n",
    "tokenizer = AutoModel.from_pretrained(\n",
    "    args.pretrained_model_name_or_path, subfolder=\"tokenizer\", \n",
    "    local_files_only=True,\n",
    "    use_safetensors=True,\n",
    ")\n",
    "transformer = WanTransformer3DModel.from_pretrained(\n",
    "    args.pretrained_model_name_or_path, subfolder=\"transformer\", \n",
    "    torch_dtype=load_dtype, \n",
    "    local_files_only=True,\n",
    "    low_cpu_mem_usage=False, \n",
    "    use_safetensors=True,\n",
    "    ignore_mismatched_sizes=True,      # Setting for model structure changes\n",
    ").to(device)\n",
    "text_encoder = AutoModel.from_pretrained(\n",
    "    args.pretrained_model_name_or_path, subfolder=\"text_encoder\", \n",
    "    torch_dtype=load_dtype, \n",
    "    local_files_only=True,\n",
    "    use_safetensors=True,\n",
    ").to(device)\n",
    "\n",
    "scheduler = UniPCMultistepScheduler(prediction_type='flow_prediction', use_flow_sigmas=True, num_train_timesteps=1000, flow_shift=args.validation.flow_shift)\n",
    "video_processor = VideoProcessor(vae_scale_factor=vae.config.scale_factor_spatial)\n",
    "\n",
    "\n",
    "\n",
    "\n",
    "\n",
    "config = args.validation\n",
    "with torch.no_grad():\n",
    "    print(\"Start log_validation\")\n",
    "    prompt_list = config.prompt.split(config.prompt_separator)\n",
    "    negative_prompt = config.negetive_prompt\n",
    "    output_dir = getattr(config, \"save_dir\", 5.0)\n",
    "    os.makedirs(output_dir, exist_ok=True)\n",
    "\n",
    "    for prompt_idx, prompt in enumerate(prompt_list):\n",
    "\n",
    "        torch.cuda.empty_cache()\n",
    "        gc.collect()\n",
    "        free_memory()\n",
    "\n",
    "        prompt_embeds, negative_prompt_embeds = None, None\n",
    "        if config.negetive_prompt_embed is not None:\n",
    "            negative_prompt_embeds = torch.load(config.negetive_prompt_embed).to(device).unsqueeze(0)\n",
    "            \n",
    "        prompt_embeds, negative_prompt_embeds = encode_prompt(\n",
    "            prompt=prompt,\n",
    "            negative_prompt=negative_prompt,\n",
    "            tokenizer = tokenizer,\n",
    "            text_encoder = text_encoder,\n",
    "            do_classifier_free_guidance=config.guidance_scale > 1.0,\n",
    "            num_videos_per_prompt=config.num_videos_per_prompt,\n",
    "            prompt_embeds=prompt_embeds,\n",
    "            negative_prompt_embeds=negative_prompt_embeds,\n",
    "            max_sequence_length=512,\n",
    "            device=device,\n",
    "            dtype = load_dtype,\n",
    "        ) # type: ignore\n",
    "\n",
    "\n",
    "        with autocast(dtype=infer_dtype):\n",
    "            num_latent_frames = (config.num_frames - 1) // vae.config.scale_factor_temporal + 1\n",
    "            num_channels = transformer.module.config.in_channels if hasattr(transformer, \"module\") else transformer.config.in_channels\n",
    "            shape = (\n",
    "                    config.num_videos_per_prompt,\n",
    "                    num_channels,\n",
    "                    num_latent_frames,\n",
    "                    config.height // vae.config.scale_factor_spatial,\n",
    "                    config.width // vae.config.scale_factor_spatial,\n",
    "            )\n",
    "            latents = randn_tensor(shape, device=device, dtype=infer_dtype)\n",
    "            scheduler.set_timesteps(config.num_inference_steps, device=device)\n",
    "            timesteps = scheduler.timesteps\n",
    "\n",
    "            for i, t in tqdm(enumerate(timesteps)):\n",
    "                current_model = transformer.module if hasattr(transformer, \"module\") else transformer\n",
    "                current_guidance_scale = config.guidance_scale\n",
    "                latent_model_input = latents\n",
    "                timestep = t.expand(latents.shape[0])\n",
    "\n",
    "                with current_model.cache_context(\"cond\"):\n",
    "                    noise_pred = current_model(\n",
    "                        hidden_states=latent_model_input,\n",
    "                        timestep=timestep,\n",
    "                        encoder_hidden_states=prompt_embeds,\n",
    "                        attention_kwargs=None,\n",
    "                        return_dict=False,\n",
    "                    )[0]\n",
    "\n",
    "                if config.guidance_scale > 1.0:\n",
    "                    with current_model.cache_context(\"uncond\"):\n",
    "                        noise_uncond = current_model(\n",
    "                            hidden_states=latent_model_input,\n",
    "                            timestep=timestep,\n",
    "                            encoder_hidden_states=negative_prompt_embeds,\n",
    "                            attention_kwargs=None,\n",
    "                            return_dict=False,\n",
    "                        )[0]\n",
    "                    noise_pred = noise_uncond + current_guidance_scale * (noise_pred - noise_uncond)\n",
    "                latents = scheduler.step(noise_pred, t, latents, return_dict=False)[0]\n",
    "                                    \n",
    "\n",
    "            latents = latents.to(vae.dtype)\n",
    "            latents_mean = torch.tensor(vae.config.latents_mean).view(1, vae.config.z_dim, 1, 1, 1).to(vae.device, vae.dtype)\n",
    "            latents_std = 1 / torch.tensor(vae.config.latents_std).view(1, vae.config.z_dim, 1, 1, 1).to(vae.device, vae.dtype)\n",
    "            latents = latents / latents_std + latents_mean\n",
    "            video = vae.decode(latents, return_dict=False)[0]\n",
    "            video = video_processor.postprocess_video(video, output_type='np')\n",
    "            for i in range(config.num_videos_per_prompt):\n",
    "                export_to_video(video[i], f\"{output_dir}/output{prompt_idx}_{i}.mp4\", fps=config.fps if hasattr(config, \"fps\") else 16)\n",
    "            "
   ]
  },
  {
   "cell_type": "code",
   "execution_count": 2,
   "id": "97e67628",
   "metadata": {},
   "outputs": [
    {
     "name": "stderr",
     "output_type": "stream",
     "text": [
      "/data-87-04/chengxin/envs/veo3/lib/python3.10/site-packages/tqdm/auto.py:21: TqdmWarning: IProgress not found. Please update jupyter and ipywidgets. See https://ipywidgets.readthedocs.io/en/stable/user_install.html\n",
      "  from .autonotebook import tqdm as notebook_tqdm\n",
      "Loading checkpoint shards: 100%|██████████| 2/2 [00:00<00:00,  9.87it/s]\n"
     ]
    }
   ],
   "source": [
    "import gc\n",
    "import os\n",
    "from tqdm import tqdm\n",
    "from diffusers import AutoModel\n",
    "from diffusers.training_utils import cast_training_params, free_memory\n",
    "import torch\n",
    "from torch.cuda.amp import autocast\n",
    "\n",
    "from diffusers.utils.torch_utils import randn_tensor\n",
    "from diffusers.video_processor import VideoProcessor\n",
    "from omegaconf import OmegaConf\n",
    "from model.wan.wan_transformer_for_video import WanTransformer3DModel\n",
    "from model.wan.pipeline_wan_ttv import FlowMatchEulerDiscreteScheduler, AutoencoderKLWan, WanPipeline\n",
    "from diffusers.schedulers.scheduling_unipc_multistep import UniPCMultistepScheduler\n",
    "from utils.text_encoding import get_t5_prompt_embeds, encode_prompt\n",
    "from diffusers.utils import check_min_version, convert_unet_state_dict_to_peft, export_to_video, is_wandb_available\n",
    "from peft import LoraConfig, get_peft_model\n",
    "\n",
    "\n",
    "\n",
    "args = OmegaConf.load(\"/home/chengxin/chengxin/vagen/config/tta_tuning.yaml\")\n",
    "infer_dtype = torch.float16\n",
    "load_dtype = torch.float32\n",
    "device = \"cpu\"\n",
    "\n",
    "\n",
    "transformer = WanTransformer3DModel.from_pretrained(\n",
    "    args.pretrained_model_name_or_path, subfolder=\"transformer\", \n",
    "    torch_dtype=load_dtype, \n",
    "    local_files_only=True,\n",
    "    low_cpu_mem_usage=False, \n",
    "    use_safetensors=True,\n",
    "    ignore_mismatched_sizes=True,      # Setting for model structure changes\n",
    ").to(device)\n",
    "\n",
    "\n",
    "\n",
    "def set_requires_grad(transformer, target_params, print_param = False):\n",
    "    for name, param in transformer.named_parameters():\n",
    "        for target in target_params:\n",
    "            if target in name:\n",
    "                param.requires_grad = True  # 设置为需要梯度\n",
    "                if print_param:\n",
    "                    print(f\"{target}\", end = \" \")\n",
    "    print(\"\\n\")\n",
    "    return transformer"
   ]
  },
  {
   "cell_type": "code",
   "execution_count": 7,
   "id": "349b6774",
   "metadata": {},
   "outputs": [
    {
     "name": "stderr",
     "output_type": "stream",
     "text": [
      "/data-87-04/chengxin/envs/veo3/lib/python3.10/site-packages/peft/mapping_func.py:73: UserWarning: You are trying to modify a model with PEFT for a second time. If you want to reload the model with a different config, make sure to call `.unload()` before.\n",
      "  warnings.warn(\n",
      "/data-87-04/chengxin/envs/veo3/lib/python3.10/site-packages/peft/tuners/tuners_utils.py:196: UserWarning: Already found a `peft_config` attribute in the model. This will lead to having multiple adapters in the model. Make sure to know what you are doing!\n",
      "  warnings.warn(\n"
     ]
    },
    {
     "name": "stdout",
     "output_type": "stream",
     "text": [
      "scale_shift_table patch_embedding patch_embedding text_embedder text_embedder text_embedder text_embedder scale_shift_table scale_shift_table scale_shift_table scale_shift_table scale_shift_table scale_shift_table scale_shift_table scale_shift_table scale_shift_table scale_shift_table scale_shift_table scale_shift_table scale_shift_table scale_shift_table scale_shift_table scale_shift_table scale_shift_table scale_shift_table scale_shift_table scale_shift_table scale_shift_table scale_shift_table scale_shift_table scale_shift_table scale_shift_table scale_shift_table scale_shift_table scale_shift_table scale_shift_table scale_shift_table proj_out proj_out \n",
      "\n",
      "trainable params: 160,519,744 || all params: 1,570,384,960 || trainable%: 10.2217\n"
     ]
    }
   ],
   "source": [
    "lora_config = LoraConfig(\n",
    "    r=args.rank,  # LoRA 的秩（rank），通常设为 4、8、16 或 32\n",
    "    lora_alpha=args.lora_alpha,  # 缩放因子，控制 LoRA 更新的幅度\n",
    "    target_modules=[\"to_q\", \n",
    "                    \"to_k\", \n",
    "                    \"to_v\", \n",
    "                    \"ffn.net.0.proj\", \n",
    "                    \"ffn.net.2\"],  # 指定应用 LoRA 的模块（如 Transformer 的查询和值投影）\n",
    "    lora_dropout=0.1,  # Dropout 概率\n",
    "    bias=\"none\",  # 是否调整偏置\n",
    "    # task_type=\"CAUSAL_LM\"  # 任务类型，如 CAUSAL_LM 或 SEQ_CLS\n",
    ")\n",
    "\n",
    "\n",
    "transformer = get_peft_model(transformer, lora_config)\n",
    "transformer = set_requires_grad(transformer, ['patch_embedding', 'proj_out', 'scale_shift_table', 'text_embedder'], True)\n",
    "transformer.print_trainable_parameters()  # 查看可训练参数量\n",
    "\n",
    "\n",
    "# print(\"=== 可训练参数 ===\")\n",
    "# trainable_params = 0\n",
    "# total_params = 0\n",
    "# for name, param in transformer.named_parameters():\n",
    "#     if param.requires_grad:\n",
    "#         print(f\"Layer: {name}, Shape: {param.shape}\")\n",
    "#         trainable_params += param.numel()\n",
    "#     total_params += param.numel()"
   ]
  },
  {
   "cell_type": "code",
   "execution_count": null,
   "id": "cdfc376e",
   "metadata": {},
   "outputs": [],
   "source": []
  },
  {
   "cell_type": "markdown",
   "id": "324d32e9",
   "metadata": {},
   "source": [
    "# Stable Diffusion"
   ]
  },
  {
   "cell_type": "code",
   "execution_count": 3,
   "id": "6d84cd70",
   "metadata": {},
   "outputs": [],
   "source": [
    "from diffusers import AutoModel\n",
    "from diffusers.pipelines.stable_audio.modeling_stable_audio import StableAudioProjectionModel\n",
    "from model.stable_audio.stable_audio_transformer import StableAudioDiTModel\n",
    "import torch\n",
    "from diffusers.utils.torch_utils import randn_tensor\n",
    "from diffusers.models.embeddings import get_1d_rotary_pos_embed\n",
    "import inspect\n",
    "from tqdm import tqdm\n",
    "import soundfile as sf\n",
    "\n",
    "\n",
    "load_dtype = torch.float16\n",
    "device = \"cuda:0\"\n",
    "transformer = StableAudioDiTModel.from_pretrained(\n",
    "    '/home/chengxin/chengxin/vagen/assets/stable-audio-open-1.0', \n",
    "    subfolder=\"transformer\", \n",
    "    torch_dtype = load_dtype,\n",
    "    local_files_only=True,                  # From pretrained\n",
    "    low_cpu_mem_usage=False, \n",
    "    ignore_mismatched_sizes=True,      \n",
    "    # num_layers=10,                                 \n",
    "    use_safetensors=True,                          \n",
    ").to(device)\n",
    "\n",
    "\n",
    "projection_model = StableAudioProjectionModel.from_pretrained(\n",
    "    '/home/chengxin/chengxin/vagen/assets/stable-audio-open-1.0', \n",
    "    subfolder=\"projection_model\",\n",
    "    torch_dtype=load_dtype, \n",
    "    local_files_only=True,\n",
    "    use_safetensors=True,\n",
    ").to(device)\n",
    "\n",
    "vae = AutoModel.from_pretrained(\n",
    "    '/home/chengxin/chengxin/vagen/assets/stable-audio-open-1.0', \n",
    "    subfolder=\"vae\", \n",
    "    torch_dtype = load_dtype,\n",
    "    local_files_only=True,\n",
    "    use_safetensors=True,                      \n",
    ").to(device)\n",
    "\n",
    "\n",
    "text_encoder = AutoModel.from_pretrained(\n",
    "    '/home/chengxin/chengxin/vagen/assets/stable-audio-open-1.0', \n",
    "    subfolder=\"text_encoder\", \n",
    "    torch_dtype=load_dtype, \n",
    "    local_files_only=True,\n",
    "    use_safetensors=True,\n",
    ").to(device)\n",
    "\n",
    "tokenizer = AutoModel.from_pretrained(\n",
    "    '/home/chengxin/chengxin/vagen/assets/stable-audio-open-1.0', \n",
    "    subfolder=\"tokenizer\", \n",
    "    local_files_only=True,\n",
    "    use_safetensors=True,\n",
    ")\n",
    "\n",
    "scheduler = AutoModel.from_pretrained(\n",
    "    '/home/chengxin/chengxin/vagen/assets/stable-audio-open-1.0', \n",
    "    subfolder=\"scheduler\", \n",
    ")\n"
   ]
  },
  {
   "cell_type": "code",
   "execution_count": 6,
   "id": "cb696101",
   "metadata": {},
   "outputs": [
    {
     "name": "stderr",
     "output_type": "stream",
     "text": [
      "0it [00:00, ?it/s]"
     ]
    },
    {
     "name": "stderr",
     "output_type": "stream",
     "text": [
      "200it [00:06, 28.58it/s]\n"
     ]
    }
   ],
   "source": [
    "from utils.text_encoding import encode_prompt_sd, encode_duration_sd, prepare_extra_step_kwargs\n",
    "\n",
    "\n",
    "prompt = [\"The sharp, resonant sound of a bowling ball striking the pins, followed by the clattering and scattering of the pins in a chaotic dance, fills the air with a mix of impact and rolling echoes.\"]\n",
    "negative_prompt = [\"Low quality.\"]\n",
    "batch_size = len(prompt)\n",
    "\n",
    "do_classifier_free_guidance = True\n",
    "num_waveforms_per_prompt = 1\n",
    "num_inference_steps = 200\n",
    "eta = 0.0\n",
    "guidance_scale = 7\n",
    "negative_prompt_embeds = None\n",
    "\n",
    "audio_start_in_s = 0.0\n",
    "audio_end_in_s   = 5.0\n",
    "\n",
    "with torch.no_grad():\n",
    "    prompt_embeds = encode_prompt_sd(\n",
    "        prompt,\n",
    "        tokenizer,\n",
    "        text_encoder,\n",
    "        projection_model,\n",
    "        device,\n",
    "        do_classifier_free_guidance,\n",
    "        negative_prompt,\n",
    "    )\n",
    "\n",
    "    # Encode duration\n",
    "    seconds_start_hidden_states, seconds_end_hidden_states = encode_duration_sd(\n",
    "        projection_model,\n",
    "        audio_start_in_s,\n",
    "        audio_end_in_s,\n",
    "        device,\n",
    "        do_classifier_free_guidance and (negative_prompt is not None or negative_prompt_embeds is not None),\n",
    "        batch_size,\n",
    "    )\n",
    "\n",
    "    # Create text_audio_duration_embeds and audio_duration_embeds\n",
    "    text_audio_duration_embeds = torch.cat([prompt_embeds, seconds_start_hidden_states, seconds_end_hidden_states], dim=1)\n",
    "    audio_duration_embeds = torch.cat([seconds_start_hidden_states, seconds_end_hidden_states], dim=2)\n",
    "\n",
    "    # In case of classifier free guidance without negative prompt, we need to create unconditional embeddings and\n",
    "    if do_classifier_free_guidance and negative_prompt_embeds is None and negative_prompt is None:\n",
    "        negative_text_audio_duration_embeds = torch.zeros_like(text_audio_duration_embeds, device=text_audio_duration_embeds.device)\n",
    "        text_audio_duration_embeds = torch.cat([negative_text_audio_duration_embeds, text_audio_duration_embeds], dim=0)\n",
    "        audio_duration_embeds = torch.cat([audio_duration_embeds, audio_duration_embeds], dim=0)\n",
    "\n",
    "    bs_embed, seq_len, hidden_size = text_audio_duration_embeds.shape\n",
    "    # duplicate audio_duration_embeds and text_audio_duration_embeds for each generation per prompt, using mps friendly method\n",
    "    text_audio_duration_embeds = text_audio_duration_embeds.repeat(1, num_waveforms_per_prompt, 1)\n",
    "    text_audio_duration_embeds = text_audio_duration_embeds.view(bs_embed * num_waveforms_per_prompt, seq_len, hidden_size)\n",
    "\n",
    "    # # print(audio_duration_embeds.shape)\n",
    "    audio_duration_embeds = audio_duration_embeds.repeat(1, num_waveforms_per_prompt, 1)\n",
    "    audio_duration_embeds = audio_duration_embeds.view(bs_embed * num_waveforms_per_prompt, -1, audio_duration_embeds.shape[-1])\n",
    "    # # print(audio_duration_embeds.shape)\n",
    "\n",
    "    # 4. Prepare timesteps\n",
    "    scheduler.set_timesteps(num_inference_steps, device=device)\n",
    "    timesteps = scheduler.timesteps\n",
    "\n",
    "    # 5. Prepare latent variables\n",
    "    num_channels_vae = transformer.config.in_channels\n",
    "    waveform_length = int(transformer.config.sample_size)\n",
    "    # waveform_length = int(audio_end_in_s * 22.5)\n",
    "    shape = (batch_size * num_waveforms_per_prompt, num_channels_vae, waveform_length)\n",
    "    generator = torch.Generator(\"cuda\").manual_seed(0)\n",
    "    # generator = None\n",
    "    latents = randn_tensor(shape, generator=generator, device=device, dtype=load_dtype)\n",
    "\n",
    "    # 6. Prepare extra step kwargs and rotary_embed_dim\n",
    "    extra_step_kwargs = prepare_extra_step_kwargs(generator, eta, scheduler)\n",
    "    rotary_embed_dim = transformer.config.attention_head_dim // 2\n",
    "    rotary_embedding = get_1d_rotary_pos_embed(\n",
    "        rotary_embed_dim,\n",
    "        latents.shape[2] + audio_duration_embeds.shape[1],\n",
    "        use_real=True,\n",
    "        repeat_interleave_real=False,\n",
    "    )\n",
    "\n",
    "    # 8. Denoising loop\n",
    "    for i, t in tqdm(enumerate(timesteps)):\n",
    "        # expand the latents if we are doing classifier free guidance\n",
    "        latent_model_input = torch.cat([latents] * 2) if do_classifier_free_guidance else latents\n",
    "        latent_model_input = scheduler.scale_model_input(latent_model_input, t)\n",
    "        t = torch.stack([t for _ in range(latent_model_input.shape[0])])\n",
    "\n",
    "        # predict the noise residual\n",
    "        noise_pred = transformer(\n",
    "            latent_model_input,\n",
    "            t,\n",
    "            encoder_hidden_states=text_audio_duration_embeds,\n",
    "            global_hidden_states=audio_duration_embeds,\n",
    "            rotary_embedding=rotary_embedding,\n",
    "            return_dict=False,\n",
    "        )[0]\n",
    "\n",
    "        # perform guidance\n",
    "        if do_classifier_free_guidance:\n",
    "            noise_pred_uncond, noise_pred_text = noise_pred.chunk(2)\n",
    "            noise_pred = noise_pred_uncond + guidance_scale * (noise_pred_text - noise_pred_uncond)\n",
    "        latents = scheduler.step(noise_pred, t, latents, **extra_step_kwargs).prev_sample\n",
    "\n",
    "    audio = vae.decode(latents).sample\n",
    "\n",
    "import torchaudio\n",
    "\n",
    "for i in range(len(audio)):\n",
    "    torchaudio.save(f'test{i}.wav', audio[i].to(torch.float32).cpu(), 44100)"
   ]
  },
  {
   "cell_type": "markdown",
   "id": "68454c7a",
   "metadata": {},
   "source": [
    "# Stable Diffusion FT"
   ]
  },
  {
   "cell_type": "code",
   "execution_count": 1,
   "id": "05ff6b0c",
   "metadata": {},
   "outputs": [
    {
     "name": "stderr",
     "output_type": "stream",
     "text": [
      "/data-87-04/chengxin/envs/veo3/lib/python3.10/site-packages/tqdm/auto.py:21: TqdmWarning: IProgress not found. Please update jupyter and ipywidgets. See https://ipywidgets.readthedocs.io/en/stable/user_install.html\n",
      "  from .autonotebook import tqdm as notebook_tqdm\n",
      "/data-87-04/chengxin/envs/veo3/lib/python3.10/site-packages/torch/nn/utils/weight_norm.py:143: FutureWarning: `torch.nn.utils.weight_norm` is deprecated in favor of `torch.nn.utils.parametrizations.weight_norm`.\n",
      "  WeightNorm.apply(module, name, dim)\n"
     ]
    }
   ],
   "source": [
    "from diffusers import AutoModel\n",
    "from diffusers.pipelines.stable_audio.modeling_stable_audio import StableAudioProjectionModel\n",
    "from model.stable_audio.stable_audio_transformer import StableAudioDiTModel\n",
    "import torch\n",
    "from diffusers.utils.torch_utils import randn_tensor\n",
    "from diffusers.models.embeddings import get_1d_rotary_pos_embed\n",
    "import inspect\n",
    "from tqdm import tqdm\n",
    "import soundfile as sf\n",
    "from diffusers.schedulers.scheduling_unipc_multistep import UniPCMultistepScheduler\n",
    "\n",
    "\n",
    "load_dtype = torch.float16\n",
    "device = \"cuda:0\"\n",
    "transformer = StableAudioDiTModel.from_pretrained(\n",
    "    '/home/chengxin/chengxin/vagen/assets/stable-audio-open-1.0', \n",
    "    subfolder=\"transformer_ft\", \n",
    "    torch_dtype = load_dtype,\n",
    "    local_files_only=True,                  # From pretrained\n",
    "    low_cpu_mem_usage=False, \n",
    "    ignore_mismatched_sizes=True,      \n",
    "    # num_layers=10,                                 \n",
    "    use_safetensors=True,                          \n",
    ").to(device)\n",
    "\n",
    "# sd_tta_pt_16 ckpt1\n",
    "projection_model = StableAudioProjectionModel.from_pretrained(\n",
    "    '/home/chengxin/chengxin/vagen/assets/stable-audio-open-1.0', \n",
    "    subfolder=\"projection_model\",\n",
    "    torch_dtype=load_dtype, \n",
    "    local_files_only=True,\n",
    "    use_safetensors=True,\n",
    ").to(device)\n",
    "\n",
    "vae = AutoModel.from_pretrained(\n",
    "    '/home/chengxin/chengxin/vagen/assets/stable-audio-open-1.0', \n",
    "    subfolder=\"vae\", \n",
    "    torch_dtype = load_dtype,\n",
    "    local_files_only=True,\n",
    "    use_safetensors=True,                      \n",
    ").to(device)\n",
    "\n",
    "\n",
    "text_encoder = AutoModel.from_pretrained(\n",
    "    '/home/chengxin/chengxin/vagen/assets/stable-audio-open-1.0', \n",
    "    subfolder=\"text_encoder\", \n",
    "    torch_dtype=load_dtype, \n",
    "    local_files_only=True,\n",
    "    use_safetensors=True,\n",
    ").to(device)\n",
    "\n",
    "tokenizer = AutoModel.from_pretrained(\n",
    "    '/home/chengxin/chengxin/vagen/assets/stable-audio-open-1.0', \n",
    "    subfolder=\"tokenizer\", \n",
    "    local_files_only=True,\n",
    "    use_safetensors=True,\n",
    ")\n",
    "\n",
    "step_scheduler = UniPCMultistepScheduler(prediction_type='flow_prediction', use_flow_sigmas=True, num_train_timesteps=1000) \n"
   ]
  },
  {
   "cell_type": "code",
   "execution_count": 6,
   "id": "46c45cf1",
   "metadata": {},
   "outputs": [
    {
     "name": "stderr",
     "output_type": "stream",
     "text": [
      "0it [00:00, ?it/s]"
     ]
    },
    {
     "name": "stderr",
     "output_type": "stream",
     "text": [
      "200it [00:55,  3.58it/s]\n"
     ]
    }
   ],
   "source": [
    "from utils.text_encoding import encode_prompt_sd, encode_duration_sd, prepare_extra_step_kwargs\n",
    "import json\n",
    "import torchaudio\n",
    "\n",
    "\n",
    "do_classifier_free_guidance = True\n",
    "num_waveforms_per_prompt = 1\n",
    "num_inference_steps = 200\n",
    "eta = 0.0\n",
    "guidance_scale = 7\n",
    "negative_prompt_embeds = None\n",
    "audio_start_in_s = 0.0\n",
    "audio_end_in_s   = 10.0\n",
    "\n",
    "\n",
    "with open('/home/chengxin/chengxin/vagen/data/tta/test_avsync_recap.json', 'r') as f:\n",
    "    data = json.load(f)\n",
    "\n",
    "for path, info in data.items():\n",
    "    prompt = [info['label']] \n",
    "    # Lions Roaring Deeply, Bowling striking\n",
    "    prompt = [ \"Sharpen knife\", \"chicken crowing\", \"Bowling rolling and striking\", \"hammering\", \"Lions Roaring Deeply\", 'Frog Croaking'] # ['Lions Roaring Deeply', 'Frog Croaking', 'Dog barking', 'Bowling striking']\n",
    "            #  [ \"Sharpen knife\", \"chicken crowing\", \"toilet flushing\", \"hammering\"]\n",
    "    negative_prompt = [\"\" for _ in range(len(prompt))]\n",
    "    batch_size = len(prompt)\n",
    "\n",
    "    with torch.no_grad():\n",
    "        prompt_embeds = encode_prompt_sd(\n",
    "            prompt,\n",
    "            tokenizer,\n",
    "            text_encoder,\n",
    "            projection_model,\n",
    "            device,\n",
    "            do_classifier_free_guidance,\n",
    "            negative_prompt,\n",
    "        )\n",
    "\n",
    "        # 5. Prepare latent variables\n",
    "        num_channels_vae = transformer.config.in_channels\n",
    "        # waveform_length = int(transformer.config.sample_size)\n",
    "        waveform_length = int(audio_end_in_s * 22.5)\n",
    "        shape = (batch_size * num_waveforms_per_prompt, num_channels_vae, waveform_length)\n",
    "        # generator = torch.Generator(\"cuda\").manual_seed(0)\n",
    "        latents = randn_tensor(shape, device=device, dtype=load_dtype)\n",
    "\n",
    "        # 6. Prepare extra step kwargs and rotary_embed_dim\n",
    "        rotary_embed_dim = transformer.config.attention_head_dim // 2\n",
    "        rotary_embedding = get_1d_rotary_pos_embed(\n",
    "            rotary_embed_dim,\n",
    "            latents.shape[2] + 1,\n",
    "            use_real=True,\n",
    "            repeat_interleave_real=False,\n",
    "        )\n",
    "\n",
    "        # 8. Denoising loop\n",
    "        # TODO: Check scheduler, t = 1 for noise;  UniPCMultistepScheduler timesteps [1-1000]\n",
    "        step_scheduler.set_timesteps(num_inference_steps, device=device)\n",
    "        timesteps = step_scheduler.timesteps\n",
    "        for i, t in tqdm(enumerate(timesteps)):\n",
    "            latent_model_input = torch.cat([latents] * 2) if do_classifier_free_guidance else latents\n",
    "            latent_model_input = step_scheduler.scale_model_input(latent_model_input, t)\n",
    "            t = torch.stack([t for _ in range(latent_model_input.shape[0])])\n",
    "\n",
    "            # predict the noise residual\n",
    "            noise_pred = transformer(\n",
    "                latent_model_input,\n",
    "                t,\n",
    "                encoder_hidden_states=prompt_embeds, # text_audio_duration_embeds,\n",
    "                # global_hidden_states=audio_duration_embeds,\n",
    "                rotary_embedding=rotary_embedding,\n",
    "                return_dict=False,\n",
    "            )[0]\n",
    "\n",
    "            # perform guidance\n",
    "            if do_classifier_free_guidance:\n",
    "                t = t[:len(t)//2]\n",
    "                noise_pred_uncond, noise_pred_text = noise_pred.chunk(2)\n",
    "                noise_pred = noise_pred_uncond + guidance_scale * (noise_pred_text - noise_pred_uncond)\n",
    "            latents = step_scheduler.step(noise_pred, t[0], latents).prev_sample\n",
    "\n",
    "        audio = vae.decode(latents).sample\n",
    "\n",
    "\n",
    "    for i in range(len(audio)):\n",
    "        # torchaudio.save(f\"/home/chengxin/chengxin/vagen/log/predict/{path.split('/')[-1][:-4]}.wav\", audio[i].to(torch.float32).cpu(), 44100)\n",
    "        torchaudio.save(f\"./test{i}.wav\", audio[i].to(torch.float32).cpu(), 44100)\n",
    "\n",
    "    break"
   ]
  },
  {
   "cell_type": "code",
   "execution_count": 2,
   "id": "25eb4b1a",
   "metadata": {},
   "outputs": [
    {
     "data": {
      "text/plain": [
       "149"
      ]
     },
     "execution_count": 2,
     "metadata": {},
     "output_type": "execute_result"
    }
   ],
   "source": [
    "import os, shutil\n",
    "import torchaudio\n",
    "\n",
    "i = 0\n",
    "gen_path = '/home/chengxin/chengxin/vagen/log/sd_tta_pt_16/logging/10000'    # /home/chengxin/chengxin/vagen/log/sd_tta_pt_16/checkpoints/checkpoint_1\n",
    "gen_path = '/home/chengxin/chengxin/vagen/log/sd_tta_ft_16/logging/7000'     # /home/chengxin/chengxin/vagen/log/sd_tta_ft_16/checkpoints/checkpoint_13   7000 6500 7500 \n",
    "gen_path = '/home/chengxin/chengxin/vagen/log/sd_tta_ft_recap_16/logging/8000'     # /home/chengxin/chengxin/vagen/log/sd_tta_ft_recap_16/checkpoints/   5500 4500   7000 8000\n",
    "gen_path = '/home/chengxin/chengxin/vagen/log/wan_sd_ttva_55/logging/9000'     \n",
    "\n",
    "target_path = '/home/chengxin/chengxin/Dataset_Sound/VGGSound/generated_audios/veo3/avsync'\n",
    "\n",
    "\n",
    "for file in os.listdir(target_path):\n",
    "    try:\n",
    "\n",
    "        input_file = f'{gen_path}/{file}'\n",
    "        output_file = f'{target_path}/{file}'\n",
    "        duration = 5.4  # 截取时长（秒）\n",
    "\n",
    "        waveform, sample_rate = torchaudio.load(input_file)\n",
    "        num_samples = int(duration * sample_rate)\n",
    "        waveform = waveform[:, :num_samples]\n",
    "        # waveform[:, num_samples:] = 0\n",
    "\n",
    "        torchaudio.save(output_file, waveform, sample_rate)\n",
    "        # os.remove(input_file)\n",
    "        i += 1\n",
    "\n",
    "    except:\n",
    "        pass\n",
    "        # print(file)\n",
    "i"
   ]
  },
  {
   "cell_type": "code",
   "execution_count": 1,
   "id": "cc14bdbd",
   "metadata": {},
   "outputs": [
    {
     "name": "stderr",
     "output_type": "stream",
     "text": [
      " 40%|███▉      | 119/300 [00:50<01:19,  2.28it/s]"
     ]
    },
    {
     "name": "stdout",
     "output_type": "stream",
     "text": [
      "MoviePy - Done.\n",
      "MoviePy - Writing video /home/chengxin/chengxin/Dataset_Sound/VGGSound/generated_audios/veo3/avsync_video/Ft93ncEBpGo_000184.mp4\n",
      "\n"
     ]
    },
    {
     "name": "stderr",
     "output_type": "stream",
     "text": [
      " 40%|████      | 121/300 [00:50<01:16,  2.35it/s]"
     ]
    },
    {
     "name": "stdout",
     "output_type": "stream",
     "text": [
      "MoviePy - Done !\n",
      "MoviePy - video ready /home/chengxin/chengxin/Dataset_Sound/VGGSound/generated_audios/veo3/avsync_video/Ft93ncEBpGo_000184.mp4\n",
      "视频已保存至：/home/chengxin/chengxin/Dataset_Sound/VGGSound/generated_audios/veo3/avsync_video/Ft93ncEBpGo_000184.mp4\n",
      "5.4 5.39\n",
      "MoviePy - Building video /home/chengxin/chengxin/Dataset_Sound/VGGSound/generated_audios/veo3/avsync_video/J2L9eJ-h9DY_000030.mp4.\n"
     ]
    },
    {
     "name": "stderr",
     "output_type": "stream",
     "text": [
      " 40%|████      | 121/300 [00:50<01:16,  2.35it/s]"
     ]
    },
    {
     "name": "stdout",
     "output_type": "stream",
     "text": [
      "MoviePy - Writing audio in J2L9eJ-h9DY_000030TEMP_MPY_wvf_snd.mp4\n"
     ]
    },
    {
     "name": "stderr",
     "output_type": "stream",
     "text": [
      " 40%|████      | 121/300 [00:51<01:16,  2.35it/s]"
     ]
    },
    {
     "name": "stdout",
     "output_type": "stream",
     "text": [
      "MoviePy - Done.\n",
      "MoviePy - Writing video /home/chengxin/chengxin/Dataset_Sound/VGGSound/generated_audios/veo3/avsync_video/J2L9eJ-h9DY_000030.mp4\n",
      "\n"
     ]
    },
    {
     "name": "stderr",
     "output_type": "stream",
     "text": [
      " 41%|████      | 123/300 [00:51<01:20,  2.21it/s]"
     ]
    },
    {
     "name": "stdout",
     "output_type": "stream",
     "text": [
      "MoviePy - Done !\n",
      "MoviePy - video ready /home/chengxin/chengxin/Dataset_Sound/VGGSound/generated_audios/veo3/avsync_video/J2L9eJ-h9DY_000030.mp4\n",
      "视频已保存至：/home/chengxin/chengxin/Dataset_Sound/VGGSound/generated_audios/veo3/avsync_video/J2L9eJ-h9DY_000030.mp4\n",
      "5.4 5.39\n",
      "MoviePy - Building video /home/chengxin/chengxin/Dataset_Sound/VGGSound/generated_audios/veo3/avsync_video/WKY-QgdWR1Y_000070.mp4.\n",
      "MoviePy - Writing audio in WKY-QgdWR1Y_000070TEMP_MPY_wvf_snd.mp4\n"
     ]
    },
    {
     "name": "stderr",
     "output_type": "stream",
     "text": [
      " 41%|████      | 123/300 [00:52<01:20,  2.21it/s]"
     ]
    },
    {
     "name": "stdout",
     "output_type": "stream",
     "text": [
      "MoviePy - Done.\n",
      "MoviePy - Writing video /home/chengxin/chengxin/Dataset_Sound/VGGSound/generated_audios/veo3/avsync_video/WKY-QgdWR1Y_000070.mp4\n",
      "\n"
     ]
    },
    {
     "name": "stderr",
     "output_type": "stream",
     "text": [
      " 42%|████▏     | 125/300 [00:52<01:18,  2.23it/s]"
     ]
    },
    {
     "name": "stdout",
     "output_type": "stream",
     "text": [
      "MoviePy - Done !\n",
      "MoviePy - video ready /home/chengxin/chengxin/Dataset_Sound/VGGSound/generated_audios/veo3/avsync_video/WKY-QgdWR1Y_000070.mp4\n",
      "视频已保存至：/home/chengxin/chengxin/Dataset_Sound/VGGSound/generated_audios/veo3/avsync_video/WKY-QgdWR1Y_000070.mp4\n",
      "5.4 5.39\n",
      "MoviePy - Building video /home/chengxin/chengxin/Dataset_Sound/VGGSound/generated_audios/veo3/avsync_video/IWr6t7Z1mvg_000000.mp4.\n",
      "MoviePy - Writing audio in IWr6t7Z1mvg_000000TEMP_MPY_wvf_snd.mp4\n"
     ]
    },
    {
     "name": "stderr",
     "output_type": "stream",
     "text": [
      " 42%|████▏     | 125/300 [00:52<01:18,  2.23it/s]"
     ]
    },
    {
     "name": "stdout",
     "output_type": "stream",
     "text": [
      "MoviePy - Done.\n",
      "MoviePy - Writing video /home/chengxin/chengxin/Dataset_Sound/VGGSound/generated_audios/veo3/avsync_video/IWr6t7Z1mvg_000000.mp4\n",
      "\n"
     ]
    },
    {
     "name": "stderr",
     "output_type": "stream",
     "text": [
      " 42%|████▏     | 127/300 [00:53<01:14,  2.31it/s]"
     ]
    },
    {
     "name": "stdout",
     "output_type": "stream",
     "text": [
      "MoviePy - Done !\n",
      "MoviePy - video ready /home/chengxin/chengxin/Dataset_Sound/VGGSound/generated_audios/veo3/avsync_video/IWr6t7Z1mvg_000000.mp4\n",
      "视频已保存至：/home/chengxin/chengxin/Dataset_Sound/VGGSound/generated_audios/veo3/avsync_video/IWr6t7Z1mvg_000000.mp4\n",
      "5.4 5.39\n",
      "MoviePy - Building video /home/chengxin/chengxin/Dataset_Sound/VGGSound/generated_audios/veo3/avsync_video/l0loFh-e25Y_000000.mp4.\n",
      "MoviePy - Writing audio in l0loFh-e25Y_000000TEMP_MPY_wvf_snd.mp4\n"
     ]
    },
    {
     "name": "stderr",
     "output_type": "stream",
     "text": [
      " 42%|████▏     | 127/300 [00:53<01:14,  2.31it/s]"
     ]
    },
    {
     "name": "stdout",
     "output_type": "stream",
     "text": [
      "MoviePy - Done.\n",
      "MoviePy - Writing video /home/chengxin/chengxin/Dataset_Sound/VGGSound/generated_audios/veo3/avsync_video/l0loFh-e25Y_000000.mp4\n",
      "\n"
     ]
    },
    {
     "name": "stderr",
     "output_type": "stream",
     "text": [
      " 43%|████▎     | 129/300 [00:54<01:09,  2.47it/s]"
     ]
    },
    {
     "name": "stdout",
     "output_type": "stream",
     "text": [
      "MoviePy - Done !\n",
      "MoviePy - video ready /home/chengxin/chengxin/Dataset_Sound/VGGSound/generated_audios/veo3/avsync_video/l0loFh-e25Y_000000.mp4\n",
      "视频已保存至：/home/chengxin/chengxin/Dataset_Sound/VGGSound/generated_audios/veo3/avsync_video/l0loFh-e25Y_000000.mp4\n",
      "5.4 5.39\n",
      "MoviePy - Building video /home/chengxin/chengxin/Dataset_Sound/VGGSound/generated_audios/veo3/avsync_video/GL5tAz0bzSU_000495.mp4.\n",
      "MoviePy - Writing audio in GL5tAz0bzSU_000495TEMP_MPY_wvf_snd.mp4\n"
     ]
    },
    {
     "name": "stderr",
     "output_type": "stream",
     "text": [
      " 43%|████▎     | 129/300 [00:54<01:09,  2.47it/s]"
     ]
    },
    {
     "name": "stdout",
     "output_type": "stream",
     "text": [
      "MoviePy - Done.\n",
      "MoviePy - Writing video /home/chengxin/chengxin/Dataset_Sound/VGGSound/generated_audios/veo3/avsync_video/GL5tAz0bzSU_000495.mp4\n",
      "\n"
     ]
    },
    {
     "name": "stderr",
     "output_type": "stream",
     "text": [
      " 44%|████▎     | 131/300 [00:54<01:07,  2.52it/s]"
     ]
    },
    {
     "name": "stdout",
     "output_type": "stream",
     "text": [
      "MoviePy - Done !\n",
      "MoviePy - video ready /home/chengxin/chengxin/Dataset_Sound/VGGSound/generated_audios/veo3/avsync_video/GL5tAz0bzSU_000495.mp4\n",
      "视频已保存至：/home/chengxin/chengxin/Dataset_Sound/VGGSound/generated_audios/veo3/avsync_video/GL5tAz0bzSU_000495.mp4\n",
      "5.4 5.39\n",
      "MoviePy - Building video /home/chengxin/chengxin/Dataset_Sound/VGGSound/generated_audios/veo3/avsync_video/Il9qAhbbeBw_000013.mp4.\n",
      "MoviePy - Writing audio in Il9qAhbbeBw_000013TEMP_MPY_wvf_snd.mp4\n"
     ]
    },
    {
     "name": "stderr",
     "output_type": "stream",
     "text": [
      " 44%|████▎     | 131/300 [00:55<01:07,  2.52it/s]"
     ]
    },
    {
     "name": "stdout",
     "output_type": "stream",
     "text": [
      "MoviePy - Done.\n",
      "MoviePy - Writing video /home/chengxin/chengxin/Dataset_Sound/VGGSound/generated_audios/veo3/avsync_video/Il9qAhbbeBw_000013.mp4\n",
      "\n"
     ]
    },
    {
     "name": "stderr",
     "output_type": "stream",
     "text": [
      " 44%|████▍     | 133/300 [00:55<01:07,  2.49it/s]"
     ]
    },
    {
     "name": "stdout",
     "output_type": "stream",
     "text": [
      "MoviePy - Done !\n",
      "MoviePy - video ready /home/chengxin/chengxin/Dataset_Sound/VGGSound/generated_audios/veo3/avsync_video/Il9qAhbbeBw_000013.mp4\n",
      "视频已保存至：/home/chengxin/chengxin/Dataset_Sound/VGGSound/generated_audios/veo3/avsync_video/Il9qAhbbeBw_000013.mp4\n",
      "5.4 5.39\n",
      "MoviePy - Building video /home/chengxin/chengxin/Dataset_Sound/VGGSound/generated_audios/veo3/avsync_video/KzK6d6Qpu_o_000010.mp4.\n",
      "MoviePy - Writing audio in KzK6d6Qpu_o_000010TEMP_MPY_wvf_snd.mp4\n"
     ]
    },
    {
     "name": "stderr",
     "output_type": "stream",
     "text": [
      " 44%|████▍     | 133/300 [00:56<01:07,  2.49it/s]"
     ]
    },
    {
     "name": "stdout",
     "output_type": "stream",
     "text": [
      "MoviePy - Done.\n",
      "MoviePy - Writing video /home/chengxin/chengxin/Dataset_Sound/VGGSound/generated_audios/veo3/avsync_video/KzK6d6Qpu_o_000010.mp4\n",
      "\n"
     ]
    },
    {
     "name": "stderr",
     "output_type": "stream",
     "text": [
      " 45%|████▌     | 135/300 [00:56<01:07,  2.46it/s]"
     ]
    },
    {
     "name": "stdout",
     "output_type": "stream",
     "text": [
      "MoviePy - Done !\n",
      "MoviePy - video ready /home/chengxin/chengxin/Dataset_Sound/VGGSound/generated_audios/veo3/avsync_video/KzK6d6Qpu_o_000010.mp4\n",
      "视频已保存至：/home/chengxin/chengxin/Dataset_Sound/VGGSound/generated_audios/veo3/avsync_video/KzK6d6Qpu_o_000010.mp4\n",
      "5.4 5.39\n",
      "MoviePy - Building video /home/chengxin/chengxin/Dataset_Sound/VGGSound/generated_audios/veo3/avsync_video/NRWlHRvaDcQ_000788.mp4.\n",
      "MoviePy - Writing audio in NRWlHRvaDcQ_000788TEMP_MPY_wvf_snd.mp4\n"
     ]
    },
    {
     "name": "stderr",
     "output_type": "stream",
     "text": [
      " 45%|████▌     | 135/300 [00:56<01:07,  2.46it/s]"
     ]
    },
    {
     "name": "stdout",
     "output_type": "stream",
     "text": [
      "MoviePy - Done.\n",
      "MoviePy - Writing video /home/chengxin/chengxin/Dataset_Sound/VGGSound/generated_audios/veo3/avsync_video/NRWlHRvaDcQ_000788.mp4\n",
      "\n"
     ]
    },
    {
     "name": "stderr",
     "output_type": "stream",
     "text": [
      " 46%|████▌     | 137/300 [00:57<01:02,  2.59it/s]"
     ]
    },
    {
     "name": "stdout",
     "output_type": "stream",
     "text": [
      "MoviePy - Done !\n",
      "MoviePy - video ready /home/chengxin/chengxin/Dataset_Sound/VGGSound/generated_audios/veo3/avsync_video/NRWlHRvaDcQ_000788.mp4\n",
      "视频已保存至：/home/chengxin/chengxin/Dataset_Sound/VGGSound/generated_audios/veo3/avsync_video/NRWlHRvaDcQ_000788.mp4\n",
      "5.4 5.39\n",
      "MoviePy - Building video /home/chengxin/chengxin/Dataset_Sound/VGGSound/generated_audios/veo3/avsync_video/MTL8-cVoP64_000169.mp4.\n",
      "MoviePy - Writing audio in MTL8-cVoP64_000169TEMP_MPY_wvf_snd.mp4\n"
     ]
    },
    {
     "name": "stderr",
     "output_type": "stream",
     "text": [
      " 46%|████▌     | 137/300 [00:57<01:02,  2.59it/s]"
     ]
    },
    {
     "name": "stdout",
     "output_type": "stream",
     "text": [
      "MoviePy - Done.\n",
      "MoviePy - Writing video /home/chengxin/chengxin/Dataset_Sound/VGGSound/generated_audios/veo3/avsync_video/MTL8-cVoP64_000169.mp4\n",
      "\n"
     ]
    },
    {
     "name": "stderr",
     "output_type": "stream",
     "text": [
      " 46%|████▋     | 139/300 [00:57<01:03,  2.53it/s]"
     ]
    },
    {
     "name": "stdout",
     "output_type": "stream",
     "text": [
      "MoviePy - Done !\n",
      "MoviePy - video ready /home/chengxin/chengxin/Dataset_Sound/VGGSound/generated_audios/veo3/avsync_video/MTL8-cVoP64_000169.mp4\n",
      "视频已保存至：/home/chengxin/chengxin/Dataset_Sound/VGGSound/generated_audios/veo3/avsync_video/MTL8-cVoP64_000169.mp4\n"
     ]
    },
    {
     "name": "stderr",
     "output_type": "stream",
     "text": [
      " 46%|████▋     | 139/300 [00:58<01:03,  2.53it/s]"
     ]
    },
    {
     "name": "stdout",
     "output_type": "stream",
     "text": [
      "5.4 5.39\n",
      "MoviePy - Building video /home/chengxin/chengxin/Dataset_Sound/VGGSound/generated_audios/veo3/avsync_video/kq3sz5uOvns_000208.mp4.\n",
      "MoviePy - Writing audio in kq3sz5uOvns_000208TEMP_MPY_wvf_snd.mp4\n"
     ]
    },
    {
     "name": "stderr",
     "output_type": "stream",
     "text": [
      " 46%|████▋     | 139/300 [00:58<01:03,  2.53it/s]"
     ]
    },
    {
     "name": "stdout",
     "output_type": "stream",
     "text": [
      "MoviePy - Done.\n",
      "MoviePy - Writing video /home/chengxin/chengxin/Dataset_Sound/VGGSound/generated_audios/veo3/avsync_video/kq3sz5uOvns_000208.mp4\n",
      "\n"
     ]
    },
    {
     "name": "stderr",
     "output_type": "stream",
     "text": [
      " 47%|████▋     | 141/300 [00:59<01:08,  2.34it/s]"
     ]
    },
    {
     "name": "stdout",
     "output_type": "stream",
     "text": [
      "MoviePy - Done !\n",
      "MoviePy - video ready /home/chengxin/chengxin/Dataset_Sound/VGGSound/generated_audios/veo3/avsync_video/kq3sz5uOvns_000208.mp4\n",
      "视频已保存至：/home/chengxin/chengxin/Dataset_Sound/VGGSound/generated_audios/veo3/avsync_video/kq3sz5uOvns_000208.mp4\n",
      "5.4 5.39\n",
      "MoviePy - Building video /home/chengxin/chengxin/Dataset_Sound/VGGSound/generated_audios/veo3/avsync_video/FWxMWNFsdqk_000448.mp4.\n",
      "MoviePy - Writing audio in FWxMWNFsdqk_000448TEMP_MPY_wvf_snd.mp4\n"
     ]
    },
    {
     "name": "stderr",
     "output_type": "stream",
     "text": [
      " 47%|████▋     | 141/300 [00:59<01:08,  2.34it/s]"
     ]
    },
    {
     "name": "stdout",
     "output_type": "stream",
     "text": [
      "MoviePy - Done.\n",
      "MoviePy - Writing video /home/chengxin/chengxin/Dataset_Sound/VGGSound/generated_audios/veo3/avsync_video/FWxMWNFsdqk_000448.mp4\n",
      "\n"
     ]
    },
    {
     "name": "stderr",
     "output_type": "stream",
     "text": [
      " 48%|████▊     | 143/300 [01:00<01:08,  2.28it/s]"
     ]
    },
    {
     "name": "stdout",
     "output_type": "stream",
     "text": [
      "MoviePy - Done !\n",
      "MoviePy - video ready /home/chengxin/chengxin/Dataset_Sound/VGGSound/generated_audios/veo3/avsync_video/FWxMWNFsdqk_000448.mp4\n",
      "视频已保存至：/home/chengxin/chengxin/Dataset_Sound/VGGSound/generated_audios/veo3/avsync_video/FWxMWNFsdqk_000448.mp4\n",
      "5.4 5.39\n",
      "MoviePy - Building video /home/chengxin/chengxin/Dataset_Sound/VGGSound/generated_audios/veo3/avsync_video/fp6pBJ1Iygk_000026.mp4.\n",
      "MoviePy - Writing audio in fp6pBJ1Iygk_000026TEMP_MPY_wvf_snd.mp4\n"
     ]
    },
    {
     "name": "stderr",
     "output_type": "stream",
     "text": [
      " 48%|████▊     | 143/300 [01:00<01:08,  2.28it/s]"
     ]
    },
    {
     "name": "stdout",
     "output_type": "stream",
     "text": [
      "MoviePy - Done.\n",
      "MoviePy - Writing video /home/chengxin/chengxin/Dataset_Sound/VGGSound/generated_audios/veo3/avsync_video/fp6pBJ1Iygk_000026.mp4\n",
      "\n"
     ]
    },
    {
     "name": "stderr",
     "output_type": "stream",
     "text": [
      " 48%|████▊     | 145/300 [01:00<01:05,  2.35it/s]"
     ]
    },
    {
     "name": "stdout",
     "output_type": "stream",
     "text": [
      "MoviePy - Done !\n",
      "MoviePy - video ready /home/chengxin/chengxin/Dataset_Sound/VGGSound/generated_audios/veo3/avsync_video/fp6pBJ1Iygk_000026.mp4\n",
      "视频已保存至：/home/chengxin/chengxin/Dataset_Sound/VGGSound/generated_audios/veo3/avsync_video/fp6pBJ1Iygk_000026.mp4\n",
      "5.4 5.39\n",
      "MoviePy - Building video /home/chengxin/chengxin/Dataset_Sound/VGGSound/generated_audios/veo3/avsync_video/lptpDgCE0N4_000083.mp4.\n",
      "MoviePy - Writing audio in lptpDgCE0N4_000083TEMP_MPY_wvf_snd.mp4\n"
     ]
    },
    {
     "name": "stderr",
     "output_type": "stream",
     "text": [
      " 48%|████▊     | 145/300 [01:01<01:05,  2.35it/s]"
     ]
    },
    {
     "name": "stdout",
     "output_type": "stream",
     "text": [
      "MoviePy - Done.\n",
      "MoviePy - Writing video /home/chengxin/chengxin/Dataset_Sound/VGGSound/generated_audios/veo3/avsync_video/lptpDgCE0N4_000083.mp4\n",
      "\n"
     ]
    },
    {
     "name": "stderr",
     "output_type": "stream",
     "text": [
      " 49%|████▉     | 147/300 [01:01<01:07,  2.28it/s]"
     ]
    },
    {
     "name": "stdout",
     "output_type": "stream",
     "text": [
      "MoviePy - Done !\n",
      "MoviePy - video ready /home/chengxin/chengxin/Dataset_Sound/VGGSound/generated_audios/veo3/avsync_video/lptpDgCE0N4_000083.mp4\n",
      "视频已保存至：/home/chengxin/chengxin/Dataset_Sound/VGGSound/generated_audios/veo3/avsync_video/lptpDgCE0N4_000083.mp4\n",
      "5.4 5.39\n",
      "MoviePy - Building video /home/chengxin/chengxin/Dataset_Sound/VGGSound/generated_audios/veo3/avsync_video/pYsT6PjPaFY_000030.mp4.\n",
      "MoviePy - Writing audio in pYsT6PjPaFY_000030TEMP_MPY_wvf_snd.mp4\n"
     ]
    },
    {
     "name": "stderr",
     "output_type": "stream",
     "text": [
      " 49%|████▉     | 147/300 [01:01<01:07,  2.28it/s]"
     ]
    },
    {
     "name": "stdout",
     "output_type": "stream",
     "text": [
      "MoviePy - Done.\n",
      "MoviePy - Writing video /home/chengxin/chengxin/Dataset_Sound/VGGSound/generated_audios/veo3/avsync_video/pYsT6PjPaFY_000030.mp4\n",
      "\n"
     ]
    },
    {
     "name": "stderr",
     "output_type": "stream",
     "text": [
      " 50%|████▉     | 149/300 [01:02<01:04,  2.33it/s]"
     ]
    },
    {
     "name": "stdout",
     "output_type": "stream",
     "text": [
      "MoviePy - Done !\n",
      "MoviePy - video ready /home/chengxin/chengxin/Dataset_Sound/VGGSound/generated_audios/veo3/avsync_video/pYsT6PjPaFY_000030.mp4\n",
      "视频已保存至：/home/chengxin/chengxin/Dataset_Sound/VGGSound/generated_audios/veo3/avsync_video/pYsT6PjPaFY_000030.mp4\n",
      "5.4 5.39\n",
      "MoviePy - Building video /home/chengxin/chengxin/Dataset_Sound/VGGSound/generated_audios/veo3/avsync_video/_2hpQeNbpR4_000020.mp4.\n",
      "MoviePy - Writing audio in _2hpQeNbpR4_000020TEMP_MPY_wvf_snd.mp4\n"
     ]
    },
    {
     "name": "stderr",
     "output_type": "stream",
     "text": [
      " 50%|████▉     | 149/300 [01:02<01:04,  2.33it/s]"
     ]
    },
    {
     "name": "stdout",
     "output_type": "stream",
     "text": [
      "MoviePy - Done.\n",
      "MoviePy - Writing video /home/chengxin/chengxin/Dataset_Sound/VGGSound/generated_audios/veo3/avsync_video/_2hpQeNbpR4_000020.mp4\n",
      "\n"
     ]
    },
    {
     "name": "stderr",
     "output_type": "stream",
     "text": [
      " 50%|█████     | 151/300 [01:03<01:00,  2.47it/s]"
     ]
    },
    {
     "name": "stdout",
     "output_type": "stream",
     "text": [
      "MoviePy - Done !\n",
      "MoviePy - video ready /home/chengxin/chengxin/Dataset_Sound/VGGSound/generated_audios/veo3/avsync_video/_2hpQeNbpR4_000020.mp4\n",
      "视频已保存至：/home/chengxin/chengxin/Dataset_Sound/VGGSound/generated_audios/veo3/avsync_video/_2hpQeNbpR4_000020.mp4\n",
      "5.4 5.39\n",
      "MoviePy - Building video /home/chengxin/chengxin/Dataset_Sound/VGGSound/generated_audios/veo3/avsync_video/NqLyRSDvVE0_000224.mp4.\n",
      "MoviePy - Writing audio in NqLyRSDvVE0_000224TEMP_MPY_wvf_snd.mp4\n"
     ]
    },
    {
     "name": "stderr",
     "output_type": "stream",
     "text": [
      " 50%|█████     | 151/300 [01:03<01:00,  2.47it/s]"
     ]
    },
    {
     "name": "stdout",
     "output_type": "stream",
     "text": [
      "MoviePy - Done.\n",
      "MoviePy - Writing video /home/chengxin/chengxin/Dataset_Sound/VGGSound/generated_audios/veo3/avsync_video/NqLyRSDvVE0_000224.mp4\n",
      "\n"
     ]
    },
    {
     "name": "stderr",
     "output_type": "stream",
     "text": [
      " 51%|█████     | 153/300 [01:04<00:59,  2.49it/s]"
     ]
    },
    {
     "name": "stdout",
     "output_type": "stream",
     "text": [
      "MoviePy - Done !\n",
      "MoviePy - video ready /home/chengxin/chengxin/Dataset_Sound/VGGSound/generated_audios/veo3/avsync_video/NqLyRSDvVE0_000224.mp4\n",
      "视频已保存至：/home/chengxin/chengxin/Dataset_Sound/VGGSound/generated_audios/veo3/avsync_video/NqLyRSDvVE0_000224.mp4\n",
      "5.4 5.39\n",
      "MoviePy - Building video /home/chengxin/chengxin/Dataset_Sound/VGGSound/generated_audios/veo3/avsync_video/OIGvCw4UUYk_000616.mp4.\n",
      "MoviePy - Writing audio in OIGvCw4UUYk_000616TEMP_MPY_wvf_snd.mp4\n"
     ]
    },
    {
     "name": "stderr",
     "output_type": "stream",
     "text": [
      " 51%|█████     | 153/300 [01:04<00:59,  2.49it/s]"
     ]
    },
    {
     "name": "stdout",
     "output_type": "stream",
     "text": [
      "MoviePy - Done.\n",
      "MoviePy - Writing video /home/chengxin/chengxin/Dataset_Sound/VGGSound/generated_audios/veo3/avsync_video/OIGvCw4UUYk_000616.mp4\n",
      "\n"
     ]
    },
    {
     "name": "stderr",
     "output_type": "stream",
     "text": [
      " 52%|█████▏    | 155/300 [01:04<00:55,  2.60it/s]"
     ]
    },
    {
     "name": "stdout",
     "output_type": "stream",
     "text": [
      "MoviePy - Done !\n",
      "MoviePy - video ready /home/chengxin/chengxin/Dataset_Sound/VGGSound/generated_audios/veo3/avsync_video/OIGvCw4UUYk_000616.mp4\n",
      "视频已保存至：/home/chengxin/chengxin/Dataset_Sound/VGGSound/generated_audios/veo3/avsync_video/OIGvCw4UUYk_000616.mp4\n",
      "5.4 5.39\n",
      "MoviePy - Building video /home/chengxin/chengxin/Dataset_Sound/VGGSound/generated_audios/veo3/avsync_video/JwJAh2X6btc_000010.mp4.\n"
     ]
    },
    {
     "name": "stderr",
     "output_type": "stream",
     "text": [
      " 52%|█████▏    | 155/300 [01:04<00:55,  2.60it/s]"
     ]
    },
    {
     "name": "stdout",
     "output_type": "stream",
     "text": [
      "MoviePy - Writing audio in JwJAh2X6btc_000010TEMP_MPY_wvf_snd.mp4\n"
     ]
    },
    {
     "name": "stderr",
     "output_type": "stream",
     "text": [
      " 52%|█████▏    | 155/300 [01:05<00:55,  2.60it/s]"
     ]
    },
    {
     "name": "stdout",
     "output_type": "stream",
     "text": [
      "MoviePy - Done.\n",
      "MoviePy - Writing video /home/chengxin/chengxin/Dataset_Sound/VGGSound/generated_audios/veo3/avsync_video/JwJAh2X6btc_000010.mp4\n",
      "\n"
     ]
    },
    {
     "name": "stderr",
     "output_type": "stream",
     "text": [
      " 52%|█████▏    | 157/300 [01:05<00:58,  2.43it/s]"
     ]
    },
    {
     "name": "stdout",
     "output_type": "stream",
     "text": [
      "MoviePy - Done !\n",
      "MoviePy - video ready /home/chengxin/chengxin/Dataset_Sound/VGGSound/generated_audios/veo3/avsync_video/JwJAh2X6btc_000010.mp4\n",
      "视频已保存至：/home/chengxin/chengxin/Dataset_Sound/VGGSound/generated_audios/veo3/avsync_video/JwJAh2X6btc_000010.mp4\n",
      "5.4 5.39\n",
      "MoviePy - Building video /home/chengxin/chengxin/Dataset_Sound/VGGSound/generated_audios/veo3/avsync_video/L_ucgLAe-TA_000599.mp4.\n",
      "MoviePy - Writing audio in L_ucgLAe-TA_000599TEMP_MPY_wvf_snd.mp4\n"
     ]
    },
    {
     "name": "stderr",
     "output_type": "stream",
     "text": [
      " 52%|█████▏    | 157/300 [01:05<00:58,  2.43it/s]"
     ]
    },
    {
     "name": "stdout",
     "output_type": "stream",
     "text": [
      "MoviePy - Done.\n",
      "MoviePy - Writing video /home/chengxin/chengxin/Dataset_Sound/VGGSound/generated_audios/veo3/avsync_video/L_ucgLAe-TA_000599.mp4\n",
      "\n"
     ]
    },
    {
     "name": "stderr",
     "output_type": "stream",
     "text": [
      " 53%|█████▎    | 159/300 [01:06<00:55,  2.53it/s]"
     ]
    },
    {
     "name": "stdout",
     "output_type": "stream",
     "text": [
      "MoviePy - Done !\n",
      "MoviePy - video ready /home/chengxin/chengxin/Dataset_Sound/VGGSound/generated_audios/veo3/avsync_video/L_ucgLAe-TA_000599.mp4\n",
      "视频已保存至：/home/chengxin/chengxin/Dataset_Sound/VGGSound/generated_audios/veo3/avsync_video/L_ucgLAe-TA_000599.mp4\n",
      "5.4 5.39\n",
      "MoviePy - Building video /home/chengxin/chengxin/Dataset_Sound/VGGSound/generated_audios/veo3/avsync_video/akjqOhO0IM0_000010.mp4.\n",
      "MoviePy - Writing audio in akjqOhO0IM0_000010TEMP_MPY_wvf_snd.mp4\n"
     ]
    },
    {
     "name": "stderr",
     "output_type": "stream",
     "text": [
      " 53%|█████▎    | 159/300 [01:06<00:55,  2.53it/s]"
     ]
    },
    {
     "name": "stdout",
     "output_type": "stream",
     "text": [
      "MoviePy - Done.\n",
      "MoviePy - Writing video /home/chengxin/chengxin/Dataset_Sound/VGGSound/generated_audios/veo3/avsync_video/akjqOhO0IM0_000010.mp4\n",
      "\n"
     ]
    },
    {
     "name": "stderr",
     "output_type": "stream",
     "text": [
      " 54%|█████▎    | 161/300 [01:07<00:57,  2.43it/s]"
     ]
    },
    {
     "name": "stdout",
     "output_type": "stream",
     "text": [
      "MoviePy - Done !\n",
      "MoviePy - video ready /home/chengxin/chengxin/Dataset_Sound/VGGSound/generated_audios/veo3/avsync_video/akjqOhO0IM0_000010.mp4\n",
      "视频已保存至：/home/chengxin/chengxin/Dataset_Sound/VGGSound/generated_audios/veo3/avsync_video/akjqOhO0IM0_000010.mp4\n",
      "5.4 5.39\n",
      "MoviePy - Building video /home/chengxin/chengxin/Dataset_Sound/VGGSound/generated_audios/veo3/avsync_video/krEzQuVHoKk_000001.mp4.\n",
      "MoviePy - Writing audio in krEzQuVHoKk_000001TEMP_MPY_wvf_snd.mp4\n"
     ]
    },
    {
     "name": "stderr",
     "output_type": "stream",
     "text": [
      " 54%|█████▎    | 161/300 [01:07<00:57,  2.43it/s]"
     ]
    },
    {
     "name": "stdout",
     "output_type": "stream",
     "text": [
      "MoviePy - Done.\n",
      "MoviePy - Writing video /home/chengxin/chengxin/Dataset_Sound/VGGSound/generated_audios/veo3/avsync_video/krEzQuVHoKk_000001.mp4\n",
      "\n"
     ]
    },
    {
     "name": "stderr",
     "output_type": "stream",
     "text": [
      " 54%|█████▍    | 163/300 [01:08<00:58,  2.33it/s]"
     ]
    },
    {
     "name": "stdout",
     "output_type": "stream",
     "text": [
      "MoviePy - Done !\n",
      "MoviePy - video ready /home/chengxin/chengxin/Dataset_Sound/VGGSound/generated_audios/veo3/avsync_video/krEzQuVHoKk_000001.mp4\n",
      "视频已保存至：/home/chengxin/chengxin/Dataset_Sound/VGGSound/generated_audios/veo3/avsync_video/krEzQuVHoKk_000001.mp4\n",
      "5.4 5.39\n",
      "MoviePy - Building video /home/chengxin/chengxin/Dataset_Sound/VGGSound/generated_audios/veo3/avsync_video/O8CrIlFXN1I_000030.mp4.\n",
      "MoviePy - Writing audio in O8CrIlFXN1I_000030TEMP_MPY_wvf_snd.mp4\n"
     ]
    },
    {
     "name": "stderr",
     "output_type": "stream",
     "text": [
      " 54%|█████▍    | 163/300 [01:08<00:58,  2.33it/s]"
     ]
    },
    {
     "name": "stdout",
     "output_type": "stream",
     "text": [
      "MoviePy - Done.\n",
      "MoviePy - Writing video /home/chengxin/chengxin/Dataset_Sound/VGGSound/generated_audios/veo3/avsync_video/O8CrIlFXN1I_000030.mp4\n",
      "\n"
     ]
    },
    {
     "name": "stderr",
     "output_type": "stream",
     "text": [
      " 55%|█████▌    | 165/300 [01:09<00:57,  2.36it/s]"
     ]
    },
    {
     "name": "stdout",
     "output_type": "stream",
     "text": [
      "MoviePy - Done !\n",
      "MoviePy - video ready /home/chengxin/chengxin/Dataset_Sound/VGGSound/generated_audios/veo3/avsync_video/O8CrIlFXN1I_000030.mp4\n",
      "视频已保存至：/home/chengxin/chengxin/Dataset_Sound/VGGSound/generated_audios/veo3/avsync_video/O8CrIlFXN1I_000030.mp4\n",
      "5.4 5.39\n",
      "MoviePy - Building video /home/chengxin/chengxin/Dataset_Sound/VGGSound/generated_audios/veo3/avsync_video/_52ntwwQyv4_000070.mp4.\n",
      "MoviePy - Writing audio in _52ntwwQyv4_000070TEMP_MPY_wvf_snd.mp4\n"
     ]
    },
    {
     "name": "stderr",
     "output_type": "stream",
     "text": [
      " 55%|█████▌    | 165/300 [01:09<00:57,  2.36it/s]"
     ]
    },
    {
     "name": "stdout",
     "output_type": "stream",
     "text": [
      "MoviePy - Done.\n",
      "MoviePy - Writing video /home/chengxin/chengxin/Dataset_Sound/VGGSound/generated_audios/veo3/avsync_video/_52ntwwQyv4_000070.mp4\n",
      "\n"
     ]
    },
    {
     "name": "stderr",
     "output_type": "stream",
     "text": [
      " 56%|█████▌    | 167/300 [01:09<00:54,  2.43it/s]"
     ]
    },
    {
     "name": "stdout",
     "output_type": "stream",
     "text": [
      "MoviePy - Done !\n",
      "MoviePy - video ready /home/chengxin/chengxin/Dataset_Sound/VGGSound/generated_audios/veo3/avsync_video/_52ntwwQyv4_000070.mp4\n",
      "视频已保存至：/home/chengxin/chengxin/Dataset_Sound/VGGSound/generated_audios/veo3/avsync_video/_52ntwwQyv4_000070.mp4\n"
     ]
    },
    {
     "name": "stderr",
     "output_type": "stream",
     "text": [
      " 56%|█████▌    | 167/300 [01:10<00:54,  2.43it/s]"
     ]
    },
    {
     "name": "stdout",
     "output_type": "stream",
     "text": [
      "5.4 5.39\n",
      "MoviePy - Building video /home/chengxin/chengxin/Dataset_Sound/VGGSound/generated_audios/veo3/avsync_video/QIT6l8y0_cE_000039.mp4.\n",
      "MoviePy - Writing audio in QIT6l8y0_cE_000039TEMP_MPY_wvf_snd.mp4\n"
     ]
    },
    {
     "name": "stderr",
     "output_type": "stream",
     "text": [
      " 56%|█████▌    | 167/300 [01:11<00:54,  2.43it/s]"
     ]
    },
    {
     "name": "stdout",
     "output_type": "stream",
     "text": [
      "MoviePy - Done.\n",
      "MoviePy - Writing video /home/chengxin/chengxin/Dataset_Sound/VGGSound/generated_audios/veo3/avsync_video/QIT6l8y0_cE_000039.mp4\n",
      "\n"
     ]
    },
    {
     "name": "stderr",
     "output_type": "stream",
     "text": [
      " 56%|█████▋    | 169/300 [01:11<01:12,  1.80it/s]"
     ]
    },
    {
     "name": "stdout",
     "output_type": "stream",
     "text": [
      "MoviePy - Done !\n",
      "MoviePy - video ready /home/chengxin/chengxin/Dataset_Sound/VGGSound/generated_audios/veo3/avsync_video/QIT6l8y0_cE_000039.mp4\n",
      "视频已保存至：/home/chengxin/chengxin/Dataset_Sound/VGGSound/generated_audios/veo3/avsync_video/QIT6l8y0_cE_000039.mp4\n",
      "5.4 5.39\n",
      "MoviePy - Building video /home/chengxin/chengxin/Dataset_Sound/VGGSound/generated_audios/veo3/avsync_video/dK6eZGeDjZg_000057.mp4.\n",
      "MoviePy - Writing audio in dK6eZGeDjZg_000057TEMP_MPY_wvf_snd.mp4\n"
     ]
    },
    {
     "name": "stderr",
     "output_type": "stream",
     "text": [
      " 56%|█████▋    | 169/300 [01:11<01:12,  1.80it/s]"
     ]
    },
    {
     "name": "stdout",
     "output_type": "stream",
     "text": [
      "MoviePy - Done.\n",
      "MoviePy - Writing video /home/chengxin/chengxin/Dataset_Sound/VGGSound/generated_audios/veo3/avsync_video/dK6eZGeDjZg_000057.mp4\n",
      "\n"
     ]
    },
    {
     "name": "stderr",
     "output_type": "stream",
     "text": [
      " 57%|█████▋    | 171/300 [01:12<01:05,  1.96it/s]"
     ]
    },
    {
     "name": "stdout",
     "output_type": "stream",
     "text": [
      "MoviePy - Done !\n",
      "MoviePy - video ready /home/chengxin/chengxin/Dataset_Sound/VGGSound/generated_audios/veo3/avsync_video/dK6eZGeDjZg_000057.mp4\n",
      "视频已保存至：/home/chengxin/chengxin/Dataset_Sound/VGGSound/generated_audios/veo3/avsync_video/dK6eZGeDjZg_000057.mp4\n",
      "5.4 5.39\n",
      "MoviePy - Building video /home/chengxin/chengxin/Dataset_Sound/VGGSound/generated_audios/veo3/avsync_video/NF1lwZ24RYI_000030.mp4.\n",
      "MoviePy - Writing audio in NF1lwZ24RYI_000030TEMP_MPY_wvf_snd.mp4\n"
     ]
    },
    {
     "name": "stderr",
     "output_type": "stream",
     "text": [
      " 57%|█████▋    | 171/300 [01:12<01:05,  1.96it/s]"
     ]
    },
    {
     "name": "stdout",
     "output_type": "stream",
     "text": [
      "MoviePy - Done.\n",
      "MoviePy - Writing video /home/chengxin/chengxin/Dataset_Sound/VGGSound/generated_audios/veo3/avsync_video/NF1lwZ24RYI_000030.mp4\n",
      "\n"
     ]
    },
    {
     "name": "stderr",
     "output_type": "stream",
     "text": [
      " 58%|█████▊    | 173/300 [01:13<01:01,  2.08it/s]"
     ]
    },
    {
     "name": "stdout",
     "output_type": "stream",
     "text": [
      "MoviePy - Done !\n",
      "MoviePy - video ready /home/chengxin/chengxin/Dataset_Sound/VGGSound/generated_audios/veo3/avsync_video/NF1lwZ24RYI_000030.mp4\n",
      "视频已保存至：/home/chengxin/chengxin/Dataset_Sound/VGGSound/generated_audios/veo3/avsync_video/NF1lwZ24RYI_000030.mp4\n",
      "5.4 5.39\n",
      "MoviePy - Building video /home/chengxin/chengxin/Dataset_Sound/VGGSound/generated_audios/veo3/avsync_video/OpJZ-KVF-K8_000030.mp4.\n",
      "MoviePy - Writing audio in OpJZ-KVF-K8_000030TEMP_MPY_wvf_snd.mp4\n"
     ]
    },
    {
     "name": "stderr",
     "output_type": "stream",
     "text": [
      " 58%|█████▊    | 173/300 [01:13<01:01,  2.08it/s]"
     ]
    },
    {
     "name": "stdout",
     "output_type": "stream",
     "text": [
      "MoviePy - Done.\n",
      "MoviePy - Writing video /home/chengxin/chengxin/Dataset_Sound/VGGSound/generated_audios/veo3/avsync_video/OpJZ-KVF-K8_000030.mp4\n",
      "\n"
     ]
    },
    {
     "name": "stderr",
     "output_type": "stream",
     "text": [
      " 58%|█████▊    | 175/300 [01:14<00:56,  2.19it/s]"
     ]
    },
    {
     "name": "stdout",
     "output_type": "stream",
     "text": [
      "MoviePy - Done !\n",
      "MoviePy - video ready /home/chengxin/chengxin/Dataset_Sound/VGGSound/generated_audios/veo3/avsync_video/OpJZ-KVF-K8_000030.mp4\n",
      "视频已保存至：/home/chengxin/chengxin/Dataset_Sound/VGGSound/generated_audios/veo3/avsync_video/OpJZ-KVF-K8_000030.mp4\n",
      "5.4 5.39\n",
      "MoviePy - Building video /home/chengxin/chengxin/Dataset_Sound/VGGSound/generated_audios/veo3/avsync_video/V0QCCLD_0s8_000130.mp4.\n",
      "MoviePy - Writing audio in V0QCCLD_0s8_000130TEMP_MPY_wvf_snd.mp4\n"
     ]
    },
    {
     "name": "stderr",
     "output_type": "stream",
     "text": [
      " 58%|█████▊    | 175/300 [01:14<00:56,  2.19it/s]"
     ]
    },
    {
     "name": "stdout",
     "output_type": "stream",
     "text": [
      "MoviePy - Done.\n",
      "MoviePy - Writing video /home/chengxin/chengxin/Dataset_Sound/VGGSound/generated_audios/veo3/avsync_video/V0QCCLD_0s8_000130.mp4\n",
      "\n"
     ]
    },
    {
     "name": "stderr",
     "output_type": "stream",
     "text": [
      " 59%|█████▉    | 177/300 [01:14<00:53,  2.31it/s]"
     ]
    },
    {
     "name": "stdout",
     "output_type": "stream",
     "text": [
      "MoviePy - Done !\n",
      "MoviePy - video ready /home/chengxin/chengxin/Dataset_Sound/VGGSound/generated_audios/veo3/avsync_video/V0QCCLD_0s8_000130.mp4\n",
      "视频已保存至：/home/chengxin/chengxin/Dataset_Sound/VGGSound/generated_audios/veo3/avsync_video/V0QCCLD_0s8_000130.mp4\n",
      "5.4 5.39\n",
      "MoviePy - Building video /home/chengxin/chengxin/Dataset_Sound/VGGSound/generated_audios/veo3/avsync_video/rsrWBquU8bc_000050.mp4.\n",
      "MoviePy - Writing audio in rsrWBquU8bc_000050TEMP_MPY_wvf_snd.mp4\n"
     ]
    },
    {
     "name": "stderr",
     "output_type": "stream",
     "text": [
      " 59%|█████▉    | 177/300 [01:15<00:53,  2.31it/s]"
     ]
    },
    {
     "name": "stdout",
     "output_type": "stream",
     "text": [
      "MoviePy - Done.\n",
      "MoviePy - Writing video /home/chengxin/chengxin/Dataset_Sound/VGGSound/generated_audios/veo3/avsync_video/rsrWBquU8bc_000050.mp4\n",
      "\n"
     ]
    },
    {
     "name": "stderr",
     "output_type": "stream",
     "text": [
      " 60%|█████▉    | 179/300 [01:15<00:52,  2.29it/s]"
     ]
    },
    {
     "name": "stdout",
     "output_type": "stream",
     "text": [
      "MoviePy - Done !\n",
      "MoviePy - video ready /home/chengxin/chengxin/Dataset_Sound/VGGSound/generated_audios/veo3/avsync_video/rsrWBquU8bc_000050.mp4\n",
      "视频已保存至：/home/chengxin/chengxin/Dataset_Sound/VGGSound/generated_audios/veo3/avsync_video/rsrWBquU8bc_000050.mp4\n",
      "5.4 5.39\n",
      "MoviePy - Building video /home/chengxin/chengxin/Dataset_Sound/VGGSound/generated_audios/veo3/avsync_video/mdLD3Khu5k4_000030.mp4.\n",
      "MoviePy - Writing audio in mdLD3Khu5k4_000030TEMP_MPY_wvf_snd.mp4\n"
     ]
    },
    {
     "name": "stderr",
     "output_type": "stream",
     "text": [
      " 60%|█████▉    | 179/300 [01:15<00:52,  2.29it/s]"
     ]
    },
    {
     "name": "stdout",
     "output_type": "stream",
     "text": [
      "MoviePy - Done.\n",
      "MoviePy - Writing video /home/chengxin/chengxin/Dataset_Sound/VGGSound/generated_audios/veo3/avsync_video/mdLD3Khu5k4_000030.mp4\n",
      "\n"
     ]
    },
    {
     "name": "stderr",
     "output_type": "stream",
     "text": [
      " 60%|██████    | 181/300 [01:16<00:52,  2.27it/s]"
     ]
    },
    {
     "name": "stdout",
     "output_type": "stream",
     "text": [
      "MoviePy - Done !\n",
      "MoviePy - video ready /home/chengxin/chengxin/Dataset_Sound/VGGSound/generated_audios/veo3/avsync_video/mdLD3Khu5k4_000030.mp4\n",
      "视频已保存至：/home/chengxin/chengxin/Dataset_Sound/VGGSound/generated_audios/veo3/avsync_video/mdLD3Khu5k4_000030.mp4\n",
      "5.4 5.39\n",
      "MoviePy - Building video /home/chengxin/chengxin/Dataset_Sound/VGGSound/generated_audios/veo3/avsync_video/iuozNmF5TcI_000037.mp4.\n",
      "MoviePy - Writing audio in iuozNmF5TcI_000037TEMP_MPY_wvf_snd.mp4\n"
     ]
    },
    {
     "name": "stderr",
     "output_type": "stream",
     "text": [
      " 60%|██████    | 181/300 [01:16<00:52,  2.27it/s]"
     ]
    },
    {
     "name": "stdout",
     "output_type": "stream",
     "text": [
      "MoviePy - Done.\n",
      "MoviePy - Writing video /home/chengxin/chengxin/Dataset_Sound/VGGSound/generated_audios/veo3/avsync_video/iuozNmF5TcI_000037.mp4\n",
      "\n"
     ]
    },
    {
     "name": "stderr",
     "output_type": "stream",
     "text": [
      " 61%|██████    | 183/300 [01:17<00:50,  2.29it/s]"
     ]
    },
    {
     "name": "stdout",
     "output_type": "stream",
     "text": [
      "MoviePy - Done !\n",
      "MoviePy - video ready /home/chengxin/chengxin/Dataset_Sound/VGGSound/generated_audios/veo3/avsync_video/iuozNmF5TcI_000037.mp4\n",
      "视频已保存至：/home/chengxin/chengxin/Dataset_Sound/VGGSound/generated_audios/veo3/avsync_video/iuozNmF5TcI_000037.mp4\n",
      "5.4 5.39\n",
      "MoviePy - Building video /home/chengxin/chengxin/Dataset_Sound/VGGSound/generated_audios/veo3/avsync_video/T6sSJ75v9wE_000027.mp4.\n",
      "MoviePy - Writing audio in T6sSJ75v9wE_000027TEMP_MPY_wvf_snd.mp4\n"
     ]
    },
    {
     "name": "stderr",
     "output_type": "stream",
     "text": [
      " 61%|██████    | 183/300 [01:17<00:50,  2.29it/s]"
     ]
    },
    {
     "name": "stdout",
     "output_type": "stream",
     "text": [
      "MoviePy - Done.\n",
      "MoviePy - Writing video /home/chengxin/chengxin/Dataset_Sound/VGGSound/generated_audios/veo3/avsync_video/T6sSJ75v9wE_000027.mp4\n",
      "\n"
     ]
    },
    {
     "name": "stderr",
     "output_type": "stream",
     "text": [
      " 62%|██████▏   | 185/300 [01:18<00:49,  2.31it/s]"
     ]
    },
    {
     "name": "stdout",
     "output_type": "stream",
     "text": [
      "MoviePy - Done !\n",
      "MoviePy - video ready /home/chengxin/chengxin/Dataset_Sound/VGGSound/generated_audios/veo3/avsync_video/T6sSJ75v9wE_000027.mp4\n",
      "视频已保存至：/home/chengxin/chengxin/Dataset_Sound/VGGSound/generated_audios/veo3/avsync_video/T6sSJ75v9wE_000027.mp4\n",
      "5.4 5.39\n",
      "MoviePy - Building video /home/chengxin/chengxin/Dataset_Sound/VGGSound/generated_audios/veo3/avsync_video/UR0l-ggYOfg_000041.mp4.\n",
      "MoviePy - Writing audio in UR0l-ggYOfg_000041TEMP_MPY_wvf_snd.mp4\n"
     ]
    },
    {
     "name": "stderr",
     "output_type": "stream",
     "text": [
      " 62%|██████▏   | 185/300 [01:18<00:49,  2.31it/s]"
     ]
    },
    {
     "name": "stdout",
     "output_type": "stream",
     "text": [
      "MoviePy - Done.\n",
      "MoviePy - Writing video /home/chengxin/chengxin/Dataset_Sound/VGGSound/generated_audios/veo3/avsync_video/UR0l-ggYOfg_000041.mp4\n",
      "\n"
     ]
    },
    {
     "name": "stderr",
     "output_type": "stream",
     "text": [
      " 62%|██████▏   | 187/300 [01:19<00:47,  2.37it/s]"
     ]
    },
    {
     "name": "stdout",
     "output_type": "stream",
     "text": [
      "MoviePy - Done !\n",
      "MoviePy - video ready /home/chengxin/chengxin/Dataset_Sound/VGGSound/generated_audios/veo3/avsync_video/UR0l-ggYOfg_000041.mp4\n",
      "视频已保存至：/home/chengxin/chengxin/Dataset_Sound/VGGSound/generated_audios/veo3/avsync_video/UR0l-ggYOfg_000041.mp4\n",
      "5.4 5.39\n",
      "MoviePy - Building video /home/chengxin/chengxin/Dataset_Sound/VGGSound/generated_audios/veo3/avsync_video/g6kGCt7G2-w_000080.mp4.\n",
      "MoviePy - Writing audio in g6kGCt7G2-w_000080TEMP_MPY_wvf_snd.mp4\n"
     ]
    },
    {
     "name": "stderr",
     "output_type": "stream",
     "text": [
      " 62%|██████▏   | 187/300 [01:19<00:47,  2.37it/s]"
     ]
    },
    {
     "name": "stdout",
     "output_type": "stream",
     "text": [
      "MoviePy - Done.\n",
      "MoviePy - Writing video /home/chengxin/chengxin/Dataset_Sound/VGGSound/generated_audios/veo3/avsync_video/g6kGCt7G2-w_000080.mp4\n",
      "\n"
     ]
    },
    {
     "name": "stderr",
     "output_type": "stream",
     "text": [
      " 63%|██████▎   | 189/300 [01:20<00:48,  2.31it/s]"
     ]
    },
    {
     "name": "stdout",
     "output_type": "stream",
     "text": [
      "MoviePy - Done !\n",
      "MoviePy - video ready /home/chengxin/chengxin/Dataset_Sound/VGGSound/generated_audios/veo3/avsync_video/g6kGCt7G2-w_000080.mp4\n",
      "视频已保存至：/home/chengxin/chengxin/Dataset_Sound/VGGSound/generated_audios/veo3/avsync_video/g6kGCt7G2-w_000080.mp4\n",
      "5.4 5.39\n",
      "MoviePy - Building video /home/chengxin/chengxin/Dataset_Sound/VGGSound/generated_audios/veo3/avsync_video/UPVn_85FRCw_000020.mp4.\n",
      "MoviePy - Writing audio in UPVn_85FRCw_000020TEMP_MPY_wvf_snd.mp4\n"
     ]
    },
    {
     "name": "stderr",
     "output_type": "stream",
     "text": [
      " 63%|██████▎   | 189/300 [01:20<00:48,  2.31it/s]"
     ]
    },
    {
     "name": "stdout",
     "output_type": "stream",
     "text": [
      "MoviePy - Done.\n",
      "MoviePy - Writing video /home/chengxin/chengxin/Dataset_Sound/VGGSound/generated_audios/veo3/avsync_video/UPVn_85FRCw_000020.mp4\n",
      "\n"
     ]
    },
    {
     "name": "stderr",
     "output_type": "stream",
     "text": [
      " 64%|██████▎   | 191/300 [01:20<00:45,  2.38it/s]"
     ]
    },
    {
     "name": "stdout",
     "output_type": "stream",
     "text": [
      "MoviePy - Done !\n",
      "MoviePy - video ready /home/chengxin/chengxin/Dataset_Sound/VGGSound/generated_audios/veo3/avsync_video/UPVn_85FRCw_000020.mp4\n",
      "视频已保存至：/home/chengxin/chengxin/Dataset_Sound/VGGSound/generated_audios/veo3/avsync_video/UPVn_85FRCw_000020.mp4\n",
      "5.4 5.39\n",
      "MoviePy - Building video /home/chengxin/chengxin/Dataset_Sound/VGGSound/generated_audios/veo3/avsync_video/_RB9txkXq1o_000053.mp4.\n",
      "MoviePy - Writing audio in _RB9txkXq1o_000053TEMP_MPY_wvf_snd.mp4\n"
     ]
    },
    {
     "name": "stderr",
     "output_type": "stream",
     "text": [
      " 64%|██████▎   | 191/300 [01:21<00:45,  2.38it/s]"
     ]
    },
    {
     "name": "stdout",
     "output_type": "stream",
     "text": [
      "MoviePy - Done.\n",
      "MoviePy - Writing video /home/chengxin/chengxin/Dataset_Sound/VGGSound/generated_audios/veo3/avsync_video/_RB9txkXq1o_000053.mp4\n",
      "\n"
     ]
    },
    {
     "name": "stderr",
     "output_type": "stream",
     "text": [
      " 64%|██████▍   | 193/300 [01:21<00:44,  2.38it/s]"
     ]
    },
    {
     "name": "stdout",
     "output_type": "stream",
     "text": [
      "MoviePy - Done !\n",
      "MoviePy - video ready /home/chengxin/chengxin/Dataset_Sound/VGGSound/generated_audios/veo3/avsync_video/_RB9txkXq1o_000053.mp4\n",
      "视频已保存至：/home/chengxin/chengxin/Dataset_Sound/VGGSound/generated_audios/veo3/avsync_video/_RB9txkXq1o_000053.mp4\n",
      "5.4 5.39\n",
      "MoviePy - Building video /home/chengxin/chengxin/Dataset_Sound/VGGSound/generated_audios/veo3/avsync_video/YOrImbuhsQ8_000049.mp4.\n",
      "MoviePy - Writing audio in YOrImbuhsQ8_000049TEMP_MPY_wvf_snd.mp4\n"
     ]
    },
    {
     "name": "stderr",
     "output_type": "stream",
     "text": [
      " 64%|██████▍   | 193/300 [01:21<00:44,  2.38it/s]"
     ]
    },
    {
     "name": "stdout",
     "output_type": "stream",
     "text": [
      "MoviePy - Done.\n",
      "MoviePy - Writing video /home/chengxin/chengxin/Dataset_Sound/VGGSound/generated_audios/veo3/avsync_video/YOrImbuhsQ8_000049.mp4\n",
      "\n"
     ]
    },
    {
     "name": "stderr",
     "output_type": "stream",
     "text": [
      " 65%|██████▌   | 195/300 [01:22<00:41,  2.53it/s]"
     ]
    },
    {
     "name": "stdout",
     "output_type": "stream",
     "text": [
      "MoviePy - Done !\n",
      "MoviePy - video ready /home/chengxin/chengxin/Dataset_Sound/VGGSound/generated_audios/veo3/avsync_video/YOrImbuhsQ8_000049.mp4\n",
      "视频已保存至：/home/chengxin/chengxin/Dataset_Sound/VGGSound/generated_audios/veo3/avsync_video/YOrImbuhsQ8_000049.mp4\n",
      "5.4 5.39\n",
      "MoviePy - Building video /home/chengxin/chengxin/Dataset_Sound/VGGSound/generated_audios/veo3/avsync_video/OJqJgotD8D4_000038.mp4.\n",
      "MoviePy - Writing audio in OJqJgotD8D4_000038TEMP_MPY_wvf_snd.mp4\n"
     ]
    },
    {
     "name": "stderr",
     "output_type": "stream",
     "text": [
      " 65%|██████▌   | 195/300 [01:22<00:41,  2.53it/s]"
     ]
    },
    {
     "name": "stdout",
     "output_type": "stream",
     "text": [
      "MoviePy - Done.\n",
      "MoviePy - Writing video /home/chengxin/chengxin/Dataset_Sound/VGGSound/generated_audios/veo3/avsync_video/OJqJgotD8D4_000038.mp4\n",
      "\n"
     ]
    },
    {
     "name": "stderr",
     "output_type": "stream",
     "text": [
      " 66%|██████▌   | 197/300 [01:23<00:43,  2.39it/s]"
     ]
    },
    {
     "name": "stdout",
     "output_type": "stream",
     "text": [
      "MoviePy - Done !\n",
      "MoviePy - video ready /home/chengxin/chengxin/Dataset_Sound/VGGSound/generated_audios/veo3/avsync_video/OJqJgotD8D4_000038.mp4\n",
      "视频已保存至：/home/chengxin/chengxin/Dataset_Sound/VGGSound/generated_audios/veo3/avsync_video/OJqJgotD8D4_000038.mp4\n",
      "5.4 5.39\n",
      "MoviePy - Building video /home/chengxin/chengxin/Dataset_Sound/VGGSound/generated_audios/veo3/avsync_video/Vwz4vOzWnLE_000078.mp4.\n",
      "MoviePy - Writing audio in Vwz4vOzWnLE_000078TEMP_MPY_wvf_snd.mp4\n"
     ]
    },
    {
     "name": "stderr",
     "output_type": "stream",
     "text": [
      " 66%|██████▌   | 197/300 [01:23<00:43,  2.39it/s]"
     ]
    },
    {
     "name": "stdout",
     "output_type": "stream",
     "text": [
      "MoviePy - Done.\n",
      "MoviePy - Writing video /home/chengxin/chengxin/Dataset_Sound/VGGSound/generated_audios/veo3/avsync_video/Vwz4vOzWnLE_000078.mp4\n",
      "\n"
     ]
    },
    {
     "name": "stderr",
     "output_type": "stream",
     "text": [
      " 66%|██████▋   | 199/300 [01:24<00:42,  2.39it/s]"
     ]
    },
    {
     "name": "stdout",
     "output_type": "stream",
     "text": [
      "MoviePy - Done !\n",
      "MoviePy - video ready /home/chengxin/chengxin/Dataset_Sound/VGGSound/generated_audios/veo3/avsync_video/Vwz4vOzWnLE_000078.mp4\n",
      "视频已保存至：/home/chengxin/chengxin/Dataset_Sound/VGGSound/generated_audios/veo3/avsync_video/Vwz4vOzWnLE_000078.mp4\n",
      "5.4 5.39\n",
      "MoviePy - Building video /home/chengxin/chengxin/Dataset_Sound/VGGSound/generated_audios/veo3/avsync_video/Rl0aaF32hV4_000220.mp4.\n",
      "MoviePy - Writing audio in Rl0aaF32hV4_000220TEMP_MPY_wvf_snd.mp4\n"
     ]
    },
    {
     "name": "stderr",
     "output_type": "stream",
     "text": [
      " 66%|██████▋   | 199/300 [01:24<00:42,  2.39it/s]"
     ]
    },
    {
     "name": "stdout",
     "output_type": "stream",
     "text": [
      "MoviePy - Done.\n",
      "MoviePy - Writing video /home/chengxin/chengxin/Dataset_Sound/VGGSound/generated_audios/veo3/avsync_video/Rl0aaF32hV4_000220.mp4\n",
      "\n"
     ]
    },
    {
     "name": "stderr",
     "output_type": "stream",
     "text": [
      " 67%|██████▋   | 201/300 [01:24<00:41,  2.39it/s]"
     ]
    },
    {
     "name": "stdout",
     "output_type": "stream",
     "text": [
      "MoviePy - Done !\n",
      "MoviePy - video ready /home/chengxin/chengxin/Dataset_Sound/VGGSound/generated_audios/veo3/avsync_video/Rl0aaF32hV4_000220.mp4\n",
      "视频已保存至：/home/chengxin/chengxin/Dataset_Sound/VGGSound/generated_audios/veo3/avsync_video/Rl0aaF32hV4_000220.mp4\n",
      "5.4 5.39\n",
      "MoviePy - Building video /home/chengxin/chengxin/Dataset_Sound/VGGSound/generated_audios/veo3/avsync_video/iLo-V2zvcZE_000030.mp4.\n",
      "MoviePy - Writing audio in iLo-V2zvcZE_000030TEMP_MPY_wvf_snd.mp4\n"
     ]
    },
    {
     "name": "stderr",
     "output_type": "stream",
     "text": [
      " 67%|██████▋   | 201/300 [01:25<00:41,  2.39it/s]"
     ]
    },
    {
     "name": "stdout",
     "output_type": "stream",
     "text": [
      "MoviePy - Done.\n",
      "MoviePy - Writing video /home/chengxin/chengxin/Dataset_Sound/VGGSound/generated_audios/veo3/avsync_video/iLo-V2zvcZE_000030.mp4\n",
      "\n"
     ]
    },
    {
     "name": "stderr",
     "output_type": "stream",
     "text": [
      " 68%|██████▊   | 203/300 [01:25<00:42,  2.31it/s]"
     ]
    },
    {
     "name": "stdout",
     "output_type": "stream",
     "text": [
      "MoviePy - Done !\n",
      "MoviePy - video ready /home/chengxin/chengxin/Dataset_Sound/VGGSound/generated_audios/veo3/avsync_video/iLo-V2zvcZE_000030.mp4\n",
      "视频已保存至：/home/chengxin/chengxin/Dataset_Sound/VGGSound/generated_audios/veo3/avsync_video/iLo-V2zvcZE_000030.mp4\n",
      "5.4 5.39\n",
      "MoviePy - Building video /home/chengxin/chengxin/Dataset_Sound/VGGSound/generated_audios/veo3/avsync_video/SFnVnnubE0M_000030.mp4.\n",
      "MoviePy - Writing audio in SFnVnnubE0M_000030TEMP_MPY_wvf_snd.mp4\n"
     ]
    },
    {
     "name": "stderr",
     "output_type": "stream",
     "text": [
      " 68%|██████▊   | 203/300 [01:26<00:42,  2.31it/s]"
     ]
    },
    {
     "name": "stdout",
     "output_type": "stream",
     "text": [
      "MoviePy - Done.\n",
      "MoviePy - Writing video /home/chengxin/chengxin/Dataset_Sound/VGGSound/generated_audios/veo3/avsync_video/SFnVnnubE0M_000030.mp4\n",
      "\n"
     ]
    },
    {
     "name": "stderr",
     "output_type": "stream",
     "text": [
      " 68%|██████▊   | 205/300 [01:26<00:38,  2.48it/s]"
     ]
    },
    {
     "name": "stdout",
     "output_type": "stream",
     "text": [
      "MoviePy - Done !\n",
      "MoviePy - video ready /home/chengxin/chengxin/Dataset_Sound/VGGSound/generated_audios/veo3/avsync_video/SFnVnnubE0M_000030.mp4\n",
      "视频已保存至：/home/chengxin/chengxin/Dataset_Sound/VGGSound/generated_audios/veo3/avsync_video/SFnVnnubE0M_000030.mp4\n",
      "5.4 5.39\n",
      "MoviePy - Building video /home/chengxin/chengxin/Dataset_Sound/VGGSound/generated_audios/veo3/avsync_video/vRfRQJfTHiE_000030.mp4.\n",
      "MoviePy - Writing audio in vRfRQJfTHiE_000030TEMP_MPY_wvf_snd.mp4\n"
     ]
    },
    {
     "name": "stderr",
     "output_type": "stream",
     "text": [
      " 68%|██████▊   | 205/300 [01:26<00:38,  2.48it/s]"
     ]
    },
    {
     "name": "stdout",
     "output_type": "stream",
     "text": [
      "MoviePy - Done.\n",
      "MoviePy - Writing video /home/chengxin/chengxin/Dataset_Sound/VGGSound/generated_audios/veo3/avsync_video/vRfRQJfTHiE_000030.mp4\n",
      "\n"
     ]
    },
    {
     "name": "stderr",
     "output_type": "stream",
     "text": [
      " 69%|██████▉   | 207/300 [01:27<00:39,  2.38it/s]"
     ]
    },
    {
     "name": "stdout",
     "output_type": "stream",
     "text": [
      "MoviePy - Done !\n",
      "MoviePy - video ready /home/chengxin/chengxin/Dataset_Sound/VGGSound/generated_audios/veo3/avsync_video/vRfRQJfTHiE_000030.mp4\n",
      "视频已保存至：/home/chengxin/chengxin/Dataset_Sound/VGGSound/generated_audios/veo3/avsync_video/vRfRQJfTHiE_000030.mp4\n",
      "5.4 5.39\n",
      "MoviePy - Building video /home/chengxin/chengxin/Dataset_Sound/VGGSound/generated_audios/veo3/avsync_video/dDbYcXgoR9A_000030.mp4.\n",
      "MoviePy - Writing audio in dDbYcXgoR9A_000030TEMP_MPY_wvf_snd.mp4\n"
     ]
    },
    {
     "name": "stderr",
     "output_type": "stream",
     "text": [
      " 69%|██████▉   | 207/300 [01:27<00:39,  2.38it/s]"
     ]
    },
    {
     "name": "stdout",
     "output_type": "stream",
     "text": [
      "MoviePy - Done.\n",
      "MoviePy - Writing video /home/chengxin/chengxin/Dataset_Sound/VGGSound/generated_audios/veo3/avsync_video/dDbYcXgoR9A_000030.mp4\n",
      "\n"
     ]
    },
    {
     "name": "stderr",
     "output_type": "stream",
     "text": [
      " 70%|██████▉   | 209/300 [01:28<00:38,  2.37it/s]"
     ]
    },
    {
     "name": "stdout",
     "output_type": "stream",
     "text": [
      "MoviePy - Done !\n",
      "MoviePy - video ready /home/chengxin/chengxin/Dataset_Sound/VGGSound/generated_audios/veo3/avsync_video/dDbYcXgoR9A_000030.mp4\n",
      "视频已保存至：/home/chengxin/chengxin/Dataset_Sound/VGGSound/generated_audios/veo3/avsync_video/dDbYcXgoR9A_000030.mp4\n",
      "5.4 5.39\n",
      "MoviePy - Building video /home/chengxin/chengxin/Dataset_Sound/VGGSound/generated_audios/veo3/avsync_video/YX4MzUOPA8U_000094.mp4.\n",
      "MoviePy - Writing audio in YX4MzUOPA8U_000094TEMP_MPY_wvf_snd.mp4\n"
     ]
    },
    {
     "name": "stderr",
     "output_type": "stream",
     "text": [
      " 70%|██████▉   | 209/300 [01:28<00:38,  2.37it/s]"
     ]
    },
    {
     "name": "stdout",
     "output_type": "stream",
     "text": [
      "MoviePy - Done.\n",
      "MoviePy - Writing video /home/chengxin/chengxin/Dataset_Sound/VGGSound/generated_audios/veo3/avsync_video/YX4MzUOPA8U_000094.mp4\n",
      "\n"
     ]
    },
    {
     "name": "stderr",
     "output_type": "stream",
     "text": [
      " 70%|███████   | 211/300 [01:29<00:36,  2.41it/s]"
     ]
    },
    {
     "name": "stdout",
     "output_type": "stream",
     "text": [
      "MoviePy - Done !\n",
      "MoviePy - video ready /home/chengxin/chengxin/Dataset_Sound/VGGSound/generated_audios/veo3/avsync_video/YX4MzUOPA8U_000094.mp4\n",
      "视频已保存至：/home/chengxin/chengxin/Dataset_Sound/VGGSound/generated_audios/veo3/avsync_video/YX4MzUOPA8U_000094.mp4\n",
      "5.4 5.39\n",
      "MoviePy - Building video /home/chengxin/chengxin/Dataset_Sound/VGGSound/generated_audios/veo3/avsync_video/ol71q9DuY1Y_000128.mp4.\n",
      "MoviePy - Writing audio in ol71q9DuY1Y_000128TEMP_MPY_wvf_snd.mp4\n"
     ]
    },
    {
     "name": "stderr",
     "output_type": "stream",
     "text": [
      " 70%|███████   | 211/300 [01:29<00:36,  2.41it/s]"
     ]
    },
    {
     "name": "stdout",
     "output_type": "stream",
     "text": [
      "MoviePy - Done.\n",
      "MoviePy - Writing video /home/chengxin/chengxin/Dataset_Sound/VGGSound/generated_audios/veo3/avsync_video/ol71q9DuY1Y_000128.mp4\n",
      "\n"
     ]
    },
    {
     "name": "stderr",
     "output_type": "stream",
     "text": [
      " 71%|███████   | 213/300 [01:29<00:37,  2.34it/s]"
     ]
    },
    {
     "name": "stdout",
     "output_type": "stream",
     "text": [
      "MoviePy - Done !\n",
      "MoviePy - video ready /home/chengxin/chengxin/Dataset_Sound/VGGSound/generated_audios/veo3/avsync_video/ol71q9DuY1Y_000128.mp4\n",
      "视频已保存至：/home/chengxin/chengxin/Dataset_Sound/VGGSound/generated_audios/veo3/avsync_video/ol71q9DuY1Y_000128.mp4\n",
      "5.4 5.39\n",
      "MoviePy - Building video /home/chengxin/chengxin/Dataset_Sound/VGGSound/generated_audios/veo3/avsync_video/YKLqVHlgSiw_000176.mp4.\n",
      "MoviePy - Writing audio in YKLqVHlgSiw_000176TEMP_MPY_wvf_snd.mp4\n"
     ]
    },
    {
     "name": "stderr",
     "output_type": "stream",
     "text": [
      " 71%|███████   | 213/300 [01:30<00:37,  2.34it/s]"
     ]
    },
    {
     "name": "stdout",
     "output_type": "stream",
     "text": [
      "MoviePy - Done.\n",
      "MoviePy - Writing video /home/chengxin/chengxin/Dataset_Sound/VGGSound/generated_audios/veo3/avsync_video/YKLqVHlgSiw_000176.mp4\n",
      "\n"
     ]
    },
    {
     "name": "stderr",
     "output_type": "stream",
     "text": [
      " 72%|███████▏  | 215/300 [01:30<00:34,  2.47it/s]"
     ]
    },
    {
     "name": "stdout",
     "output_type": "stream",
     "text": [
      "MoviePy - Done !\n",
      "MoviePy - video ready /home/chengxin/chengxin/Dataset_Sound/VGGSound/generated_audios/veo3/avsync_video/YKLqVHlgSiw_000176.mp4\n",
      "视频已保存至：/home/chengxin/chengxin/Dataset_Sound/VGGSound/generated_audios/veo3/avsync_video/YKLqVHlgSiw_000176.mp4\n",
      "5.4 5.39\n",
      "MoviePy - Building video /home/chengxin/chengxin/Dataset_Sound/VGGSound/generated_audios/veo3/avsync_video/ZtKvvhRBs44_000247.mp4.\n",
      "MoviePy - Writing audio in ZtKvvhRBs44_000247TEMP_MPY_wvf_snd.mp4\n"
     ]
    },
    {
     "name": "stderr",
     "output_type": "stream",
     "text": [
      " 72%|███████▏  | 215/300 [01:31<00:34,  2.47it/s]"
     ]
    },
    {
     "name": "stdout",
     "output_type": "stream",
     "text": [
      "MoviePy - Done.\n",
      "MoviePy - Writing video /home/chengxin/chengxin/Dataset_Sound/VGGSound/generated_audios/veo3/avsync_video/ZtKvvhRBs44_000247.mp4\n",
      "\n"
     ]
    },
    {
     "name": "stderr",
     "output_type": "stream",
     "text": [
      " 72%|███████▏  | 217/300 [01:31<00:35,  2.35it/s]"
     ]
    },
    {
     "name": "stdout",
     "output_type": "stream",
     "text": [
      "MoviePy - Done !\n",
      "MoviePy - video ready /home/chengxin/chengxin/Dataset_Sound/VGGSound/generated_audios/veo3/avsync_video/ZtKvvhRBs44_000247.mp4\n",
      "视频已保存至：/home/chengxin/chengxin/Dataset_Sound/VGGSound/generated_audios/veo3/avsync_video/ZtKvvhRBs44_000247.mp4\n",
      "5.4 5.39\n",
      "MoviePy - Building video /home/chengxin/chengxin/Dataset_Sound/VGGSound/generated_audios/veo3/avsync_video/irN1qoE3-uQ_000004.mp4.\n",
      "MoviePy - Writing audio in irN1qoE3-uQ_000004TEMP_MPY_wvf_snd.mp4\n"
     ]
    },
    {
     "name": "stderr",
     "output_type": "stream",
     "text": [
      " 72%|███████▏  | 217/300 [01:31<00:35,  2.35it/s]"
     ]
    },
    {
     "name": "stdout",
     "output_type": "stream",
     "text": [
      "MoviePy - Done.\n",
      "MoviePy - Writing video /home/chengxin/chengxin/Dataset_Sound/VGGSound/generated_audios/veo3/avsync_video/irN1qoE3-uQ_000004.mp4\n",
      "\n"
     ]
    },
    {
     "name": "stderr",
     "output_type": "stream",
     "text": [
      " 73%|███████▎  | 219/300 [01:32<00:32,  2.48it/s]"
     ]
    },
    {
     "name": "stdout",
     "output_type": "stream",
     "text": [
      "MoviePy - Done !\n",
      "MoviePy - video ready /home/chengxin/chengxin/Dataset_Sound/VGGSound/generated_audios/veo3/avsync_video/irN1qoE3-uQ_000004.mp4\n",
      "视频已保存至：/home/chengxin/chengxin/Dataset_Sound/VGGSound/generated_audios/veo3/avsync_video/irN1qoE3-uQ_000004.mp4\n",
      "5.4 5.39\n",
      "MoviePy - Building video /home/chengxin/chengxin/Dataset_Sound/VGGSound/generated_audios/veo3/avsync_video/l_SEPV8JB1U_000010.mp4.\n",
      "MoviePy - Writing audio in l_SEPV8JB1U_000010TEMP_MPY_wvf_snd.mp4\n"
     ]
    },
    {
     "name": "stderr",
     "output_type": "stream",
     "text": [
      " 73%|███████▎  | 219/300 [01:32<00:32,  2.48it/s]"
     ]
    },
    {
     "name": "stdout",
     "output_type": "stream",
     "text": [
      "MoviePy - Done.\n",
      "MoviePy - Writing video /home/chengxin/chengxin/Dataset_Sound/VGGSound/generated_audios/veo3/avsync_video/l_SEPV8JB1U_000010.mp4\n",
      "\n"
     ]
    },
    {
     "name": "stderr",
     "output_type": "stream",
     "text": [
      " 74%|███████▎  | 221/300 [01:33<00:31,  2.52it/s]"
     ]
    },
    {
     "name": "stdout",
     "output_type": "stream",
     "text": [
      "MoviePy - Done !\n",
      "MoviePy - video ready /home/chengxin/chengxin/Dataset_Sound/VGGSound/generated_audios/veo3/avsync_video/l_SEPV8JB1U_000010.mp4\n",
      "视频已保存至：/home/chengxin/chengxin/Dataset_Sound/VGGSound/generated_audios/veo3/avsync_video/l_SEPV8JB1U_000010.mp4\n",
      "5.4 5.39\n",
      "MoviePy - Building video /home/chengxin/chengxin/Dataset_Sound/VGGSound/generated_audios/veo3/avsync_video/WJV6Ey6hXEw_000005.mp4.\n",
      "MoviePy - Writing audio in WJV6Ey6hXEw_000005TEMP_MPY_wvf_snd.mp4\n"
     ]
    },
    {
     "name": "stderr",
     "output_type": "stream",
     "text": [
      " 74%|███████▎  | 221/300 [01:33<00:31,  2.52it/s]"
     ]
    },
    {
     "name": "stdout",
     "output_type": "stream",
     "text": [
      "MoviePy - Done.\n",
      "MoviePy - Writing video /home/chengxin/chengxin/Dataset_Sound/VGGSound/generated_audios/veo3/avsync_video/WJV6Ey6hXEw_000005.mp4\n",
      "\n"
     ]
    },
    {
     "name": "stderr",
     "output_type": "stream",
     "text": [
      " 74%|███████▍  | 223/300 [01:33<00:31,  2.46it/s]"
     ]
    },
    {
     "name": "stdout",
     "output_type": "stream",
     "text": [
      "MoviePy - Done !\n",
      "MoviePy - video ready /home/chengxin/chengxin/Dataset_Sound/VGGSound/generated_audios/veo3/avsync_video/WJV6Ey6hXEw_000005.mp4\n",
      "视频已保存至：/home/chengxin/chengxin/Dataset_Sound/VGGSound/generated_audios/veo3/avsync_video/WJV6Ey6hXEw_000005.mp4\n",
      "5.4 5.39\n",
      "MoviePy - Building video /home/chengxin/chengxin/Dataset_Sound/VGGSound/generated_audios/veo3/avsync_video/_JS6F_WP17w_000010.mp4.\n",
      "MoviePy - Writing audio in _JS6F_WP17w_000010TEMP_MPY_wvf_snd.mp4\n"
     ]
    },
    {
     "name": "stderr",
     "output_type": "stream",
     "text": [
      " 74%|███████▍  | 223/300 [01:34<00:31,  2.46it/s]"
     ]
    },
    {
     "name": "stdout",
     "output_type": "stream",
     "text": [
      "MoviePy - Done.\n",
      "MoviePy - Writing video /home/chengxin/chengxin/Dataset_Sound/VGGSound/generated_audios/veo3/avsync_video/_JS6F_WP17w_000010.mp4\n",
      "\n"
     ]
    },
    {
     "name": "stderr",
     "output_type": "stream",
     "text": [
      " 75%|███████▌  | 225/300 [01:34<00:28,  2.65it/s]"
     ]
    },
    {
     "name": "stdout",
     "output_type": "stream",
     "text": [
      "MoviePy - Done !\n",
      "MoviePy - video ready /home/chengxin/chengxin/Dataset_Sound/VGGSound/generated_audios/veo3/avsync_video/_JS6F_WP17w_000010.mp4\n",
      "视频已保存至：/home/chengxin/chengxin/Dataset_Sound/VGGSound/generated_audios/veo3/avsync_video/_JS6F_WP17w_000010.mp4\n",
      "5.4 5.39\n",
      "MoviePy - Building video /home/chengxin/chengxin/Dataset_Sound/VGGSound/generated_audios/veo3/avsync_video/YX_dIRBxMLg_000023.mp4.\n",
      "MoviePy - Writing audio in YX_dIRBxMLg_000023TEMP_MPY_wvf_snd.mp4\n"
     ]
    },
    {
     "name": "stderr",
     "output_type": "stream",
     "text": [
      " 75%|███████▌  | 225/300 [01:35<00:28,  2.65it/s]"
     ]
    },
    {
     "name": "stdout",
     "output_type": "stream",
     "text": [
      "MoviePy - Done.\n",
      "MoviePy - Writing video /home/chengxin/chengxin/Dataset_Sound/VGGSound/generated_audios/veo3/avsync_video/YX_dIRBxMLg_000023.mp4\n",
      "\n"
     ]
    },
    {
     "name": "stderr",
     "output_type": "stream",
     "text": [
      " 76%|███████▌  | 227/300 [01:35<00:33,  2.20it/s]"
     ]
    },
    {
     "name": "stdout",
     "output_type": "stream",
     "text": [
      "MoviePy - Done !\n",
      "MoviePy - video ready /home/chengxin/chengxin/Dataset_Sound/VGGSound/generated_audios/veo3/avsync_video/YX_dIRBxMLg_000023.mp4\n",
      "视频已保存至：/home/chengxin/chengxin/Dataset_Sound/VGGSound/generated_audios/veo3/avsync_video/YX_dIRBxMLg_000023.mp4\n",
      "5.4 5.39\n",
      "MoviePy - Building video /home/chengxin/chengxin/Dataset_Sound/VGGSound/generated_audios/veo3/avsync_video/lDTrnXAu4WY_000025.mp4.\n",
      "MoviePy - Writing audio in lDTrnXAu4WY_000025TEMP_MPY_wvf_snd.mp4\n"
     ]
    },
    {
     "name": "stderr",
     "output_type": "stream",
     "text": [
      " 76%|███████▌  | 227/300 [01:36<00:33,  2.20it/s]"
     ]
    },
    {
     "name": "stdout",
     "output_type": "stream",
     "text": [
      "MoviePy - Done.\n",
      "MoviePy - Writing video /home/chengxin/chengxin/Dataset_Sound/VGGSound/generated_audios/veo3/avsync_video/lDTrnXAu4WY_000025.mp4\n",
      "\n"
     ]
    },
    {
     "name": "stderr",
     "output_type": "stream",
     "text": [
      " 76%|███████▋  | 229/300 [01:36<00:31,  2.22it/s]"
     ]
    },
    {
     "name": "stdout",
     "output_type": "stream",
     "text": [
      "MoviePy - Done !\n",
      "MoviePy - video ready /home/chengxin/chengxin/Dataset_Sound/VGGSound/generated_audios/veo3/avsync_video/lDTrnXAu4WY_000025.mp4\n",
      "视频已保存至：/home/chengxin/chengxin/Dataset_Sound/VGGSound/generated_audios/veo3/avsync_video/lDTrnXAu4WY_000025.mp4\n",
      "5.4 5.39\n",
      "MoviePy - Building video /home/chengxin/chengxin/Dataset_Sound/VGGSound/generated_audios/veo3/avsync_video/nEgGc3Zg85E_000030.mp4.\n",
      "MoviePy - Writing audio in nEgGc3Zg85E_000030TEMP_MPY_wvf_snd.mp4\n"
     ]
    },
    {
     "name": "stderr",
     "output_type": "stream",
     "text": [
      " 76%|███████▋  | 229/300 [01:36<00:31,  2.22it/s]"
     ]
    },
    {
     "name": "stdout",
     "output_type": "stream",
     "text": [
      "MoviePy - Done.\n",
      "MoviePy - Writing video /home/chengxin/chengxin/Dataset_Sound/VGGSound/generated_audios/veo3/avsync_video/nEgGc3Zg85E_000030.mp4\n",
      "\n"
     ]
    },
    {
     "name": "stderr",
     "output_type": "stream",
     "text": [
      " 77%|███████▋  | 231/300 [01:37<00:29,  2.36it/s]"
     ]
    },
    {
     "name": "stdout",
     "output_type": "stream",
     "text": [
      "MoviePy - Done !\n",
      "MoviePy - video ready /home/chengxin/chengxin/Dataset_Sound/VGGSound/generated_audios/veo3/avsync_video/nEgGc3Zg85E_000030.mp4\n",
      "视频已保存至：/home/chengxin/chengxin/Dataset_Sound/VGGSound/generated_audios/veo3/avsync_video/nEgGc3Zg85E_000030.mp4\n",
      "5.4 5.39\n",
      "MoviePy - Building video /home/chengxin/chengxin/Dataset_Sound/VGGSound/generated_audios/veo3/avsync_video/ZDQSxYmgyAo_000499.mp4.\n",
      "MoviePy - Writing audio in ZDQSxYmgyAo_000499TEMP_MPY_wvf_snd.mp4\n"
     ]
    },
    {
     "name": "stderr",
     "output_type": "stream",
     "text": [
      " 77%|███████▋  | 231/300 [01:37<00:29,  2.36it/s]"
     ]
    },
    {
     "name": "stdout",
     "output_type": "stream",
     "text": [
      "MoviePy - Done.\n",
      "MoviePy - Writing video /home/chengxin/chengxin/Dataset_Sound/VGGSound/generated_audios/veo3/avsync_video/ZDQSxYmgyAo_000499.mp4\n",
      "\n"
     ]
    },
    {
     "name": "stderr",
     "output_type": "stream",
     "text": [
      " 78%|███████▊  | 233/300 [01:38<00:29,  2.26it/s]"
     ]
    },
    {
     "name": "stdout",
     "output_type": "stream",
     "text": [
      "MoviePy - Done !\n",
      "MoviePy - video ready /home/chengxin/chengxin/Dataset_Sound/VGGSound/generated_audios/veo3/avsync_video/ZDQSxYmgyAo_000499.mp4\n",
      "视频已保存至：/home/chengxin/chengxin/Dataset_Sound/VGGSound/generated_audios/veo3/avsync_video/ZDQSxYmgyAo_000499.mp4\n",
      "5.4 5.39\n",
      "MoviePy - Building video /home/chengxin/chengxin/Dataset_Sound/VGGSound/generated_audios/veo3/avsync_video/qe3eHr5Q01U_000098.mp4.\n",
      "MoviePy - Writing audio in qe3eHr5Q01U_000098TEMP_MPY_wvf_snd.mp4\n"
     ]
    },
    {
     "name": "stderr",
     "output_type": "stream",
     "text": [
      " 78%|███████▊  | 233/300 [01:38<00:29,  2.26it/s]"
     ]
    },
    {
     "name": "stdout",
     "output_type": "stream",
     "text": [
      "MoviePy - Done.\n",
      "MoviePy - Writing video /home/chengxin/chengxin/Dataset_Sound/VGGSound/generated_audios/veo3/avsync_video/qe3eHr5Q01U_000098.mp4\n",
      "\n"
     ]
    },
    {
     "name": "stderr",
     "output_type": "stream",
     "text": [
      " 78%|███████▊  | 235/300 [01:39<00:27,  2.33it/s]"
     ]
    },
    {
     "name": "stdout",
     "output_type": "stream",
     "text": [
      "MoviePy - Done !\n",
      "MoviePy - video ready /home/chengxin/chengxin/Dataset_Sound/VGGSound/generated_audios/veo3/avsync_video/qe3eHr5Q01U_000098.mp4\n",
      "视频已保存至：/home/chengxin/chengxin/Dataset_Sound/VGGSound/generated_audios/veo3/avsync_video/qe3eHr5Q01U_000098.mp4\n",
      "5.4 5.39\n",
      "MoviePy - Building video /home/chengxin/chengxin/Dataset_Sound/VGGSound/generated_audios/veo3/avsync_video/lm8M8aEoa3c_000081.mp4.\n",
      "MoviePy - Writing audio in lm8M8aEoa3c_000081TEMP_MPY_wvf_snd.mp4\n"
     ]
    },
    {
     "name": "stderr",
     "output_type": "stream",
     "text": [
      " 78%|███████▊  | 235/300 [01:39<00:27,  2.33it/s]"
     ]
    },
    {
     "name": "stdout",
     "output_type": "stream",
     "text": [
      "MoviePy - Done.\n",
      "MoviePy - Writing video /home/chengxin/chengxin/Dataset_Sound/VGGSound/generated_audios/veo3/avsync_video/lm8M8aEoa3c_000081.mp4\n",
      "\n"
     ]
    },
    {
     "name": "stderr",
     "output_type": "stream",
     "text": [
      " 79%|███████▉  | 237/300 [01:40<00:26,  2.36it/s]"
     ]
    },
    {
     "name": "stdout",
     "output_type": "stream",
     "text": [
      "MoviePy - Done !\n",
      "MoviePy - video ready /home/chengxin/chengxin/Dataset_Sound/VGGSound/generated_audios/veo3/avsync_video/lm8M8aEoa3c_000081.mp4\n",
      "视频已保存至：/home/chengxin/chengxin/Dataset_Sound/VGGSound/generated_audios/veo3/avsync_video/lm8M8aEoa3c_000081.mp4\n",
      "5.4 5.39\n",
      "MoviePy - Building video /home/chengxin/chengxin/Dataset_Sound/VGGSound/generated_audios/veo3/avsync_video/n_YeYjbyJu8_000000.mp4.\n",
      "MoviePy - Writing audio in n_YeYjbyJu8_000000TEMP_MPY_wvf_snd.mp4\n"
     ]
    },
    {
     "name": "stderr",
     "output_type": "stream",
     "text": [
      " 79%|███████▉  | 237/300 [01:40<00:26,  2.36it/s]"
     ]
    },
    {
     "name": "stdout",
     "output_type": "stream",
     "text": [
      "MoviePy - Done.\n",
      "MoviePy - Writing video /home/chengxin/chengxin/Dataset_Sound/VGGSound/generated_audios/veo3/avsync_video/n_YeYjbyJu8_000000.mp4\n",
      "\n"
     ]
    },
    {
     "name": "stderr",
     "output_type": "stream",
     "text": [
      " 80%|███████▉  | 239/300 [01:41<00:26,  2.28it/s]"
     ]
    },
    {
     "name": "stdout",
     "output_type": "stream",
     "text": [
      "MoviePy - Done !\n",
      "MoviePy - video ready /home/chengxin/chengxin/Dataset_Sound/VGGSound/generated_audios/veo3/avsync_video/n_YeYjbyJu8_000000.mp4\n",
      "视频已保存至：/home/chengxin/chengxin/Dataset_Sound/VGGSound/generated_audios/veo3/avsync_video/n_YeYjbyJu8_000000.mp4\n",
      "5.4 5.39\n",
      "MoviePy - Building video /home/chengxin/chengxin/Dataset_Sound/VGGSound/generated_audios/veo3/avsync_video/Yi9Xdiq579o_000240.mp4.\n",
      "MoviePy - Writing audio in Yi9Xdiq579o_000240TEMP_MPY_wvf_snd.mp4\n"
     ]
    },
    {
     "name": "stderr",
     "output_type": "stream",
     "text": [
      " 80%|███████▉  | 239/300 [01:41<00:26,  2.28it/s]"
     ]
    },
    {
     "name": "stdout",
     "output_type": "stream",
     "text": [
      "MoviePy - Done.\n",
      "MoviePy - Writing video /home/chengxin/chengxin/Dataset_Sound/VGGSound/generated_audios/veo3/avsync_video/Yi9Xdiq579o_000240.mp4\n",
      "\n"
     ]
    },
    {
     "name": "stderr",
     "output_type": "stream",
     "text": [
      " 80%|████████  | 241/300 [01:41<00:23,  2.49it/s]"
     ]
    },
    {
     "name": "stdout",
     "output_type": "stream",
     "text": [
      "MoviePy - Done !\n",
      "MoviePy - video ready /home/chengxin/chengxin/Dataset_Sound/VGGSound/generated_audios/veo3/avsync_video/Yi9Xdiq579o_000240.mp4\n",
      "视频已保存至：/home/chengxin/chengxin/Dataset_Sound/VGGSound/generated_audios/veo3/avsync_video/Yi9Xdiq579o_000240.mp4\n",
      "5.4 5.39\n",
      "MoviePy - Building video /home/chengxin/chengxin/Dataset_Sound/VGGSound/generated_audios/veo3/avsync_video/_f7qCwXJQmQ_000035.mp4.\n",
      "MoviePy - Writing audio in _f7qCwXJQmQ_000035TEMP_MPY_wvf_snd.mp4\n"
     ]
    },
    {
     "name": "stderr",
     "output_type": "stream",
     "text": [
      " 80%|████████  | 241/300 [01:41<00:23,  2.49it/s]"
     ]
    },
    {
     "name": "stdout",
     "output_type": "stream",
     "text": [
      "MoviePy - Done.\n",
      "MoviePy - Writing video /home/chengxin/chengxin/Dataset_Sound/VGGSound/generated_audios/veo3/avsync_video/_f7qCwXJQmQ_000035.mp4\n",
      "\n"
     ]
    },
    {
     "name": "stderr",
     "output_type": "stream",
     "text": [
      " 81%|████████  | 243/300 [01:42<00:21,  2.70it/s]"
     ]
    },
    {
     "name": "stdout",
     "output_type": "stream",
     "text": [
      "MoviePy - Done !\n",
      "MoviePy - video ready /home/chengxin/chengxin/Dataset_Sound/VGGSound/generated_audios/veo3/avsync_video/_f7qCwXJQmQ_000035.mp4\n",
      "视频已保存至：/home/chengxin/chengxin/Dataset_Sound/VGGSound/generated_audios/veo3/avsync_video/_f7qCwXJQmQ_000035.mp4\n",
      "5.4 5.39\n",
      "MoviePy - Building video /home/chengxin/chengxin/Dataset_Sound/VGGSound/generated_audios/veo3/avsync_video/_5An8FmGzxw_000009.mp4.\n",
      "MoviePy - Writing audio in _5An8FmGzxw_000009TEMP_MPY_wvf_snd.mp4\n"
     ]
    },
    {
     "name": "stderr",
     "output_type": "stream",
     "text": [
      " 81%|████████  | 243/300 [01:42<00:21,  2.70it/s]"
     ]
    },
    {
     "name": "stdout",
     "output_type": "stream",
     "text": [
      "MoviePy - Done.\n",
      "MoviePy - Writing video /home/chengxin/chengxin/Dataset_Sound/VGGSound/generated_audios/veo3/avsync_video/_5An8FmGzxw_000009.mp4\n",
      "\n"
     ]
    },
    {
     "name": "stderr",
     "output_type": "stream",
     "text": [
      " 82%|████████▏ | 245/300 [01:42<00:19,  2.76it/s]"
     ]
    },
    {
     "name": "stdout",
     "output_type": "stream",
     "text": [
      "MoviePy - Done !\n",
      "MoviePy - video ready /home/chengxin/chengxin/Dataset_Sound/VGGSound/generated_audios/veo3/avsync_video/_5An8FmGzxw_000009.mp4\n",
      "视频已保存至：/home/chengxin/chengxin/Dataset_Sound/VGGSound/generated_audios/veo3/avsync_video/_5An8FmGzxw_000009.mp4\n",
      "5.4 5.39\n",
      "MoviePy - Building video /home/chengxin/chengxin/Dataset_Sound/VGGSound/generated_audios/veo3/avsync_video/czaj1HwZFYk_000180.mp4.\n",
      "MoviePy - Writing audio in czaj1HwZFYk_000180TEMP_MPY_wvf_snd.mp4\n"
     ]
    },
    {
     "name": "stderr",
     "output_type": "stream",
     "text": [
      " 82%|████████▏ | 245/300 [01:43<00:19,  2.76it/s]"
     ]
    },
    {
     "name": "stdout",
     "output_type": "stream",
     "text": [
      "MoviePy - Done.\n",
      "MoviePy - Writing video /home/chengxin/chengxin/Dataset_Sound/VGGSound/generated_audios/veo3/avsync_video/czaj1HwZFYk_000180.mp4\n",
      "\n"
     ]
    },
    {
     "name": "stderr",
     "output_type": "stream",
     "text": [
      " 82%|████████▏ | 247/300 [01:43<00:19,  2.70it/s]"
     ]
    },
    {
     "name": "stdout",
     "output_type": "stream",
     "text": [
      "MoviePy - Done !\n",
      "MoviePy - video ready /home/chengxin/chengxin/Dataset_Sound/VGGSound/generated_audios/veo3/avsync_video/czaj1HwZFYk_000180.mp4\n",
      "视频已保存至：/home/chengxin/chengxin/Dataset_Sound/VGGSound/generated_audios/veo3/avsync_video/czaj1HwZFYk_000180.mp4\n",
      "5.4 5.39\n",
      "MoviePy - Building video /home/chengxin/chengxin/Dataset_Sound/VGGSound/generated_audios/veo3/avsync_video/pLlHIfTP5R4_000030.mp4.\n",
      "MoviePy - Writing audio in pLlHIfTP5R4_000030TEMP_MPY_wvf_snd.mp4\n"
     ]
    },
    {
     "name": "stderr",
     "output_type": "stream",
     "text": [
      " 82%|████████▏ | 247/300 [01:43<00:19,  2.70it/s]"
     ]
    },
    {
     "name": "stdout",
     "output_type": "stream",
     "text": [
      "MoviePy - Done.\n",
      "MoviePy - Writing video /home/chengxin/chengxin/Dataset_Sound/VGGSound/generated_audios/veo3/avsync_video/pLlHIfTP5R4_000030.mp4\n",
      "\n"
     ]
    },
    {
     "name": "stderr",
     "output_type": "stream",
     "text": [
      " 83%|████████▎ | 249/300 [01:44<00:18,  2.70it/s]"
     ]
    },
    {
     "name": "stdout",
     "output_type": "stream",
     "text": [
      "MoviePy - Done !\n",
      "MoviePy - video ready /home/chengxin/chengxin/Dataset_Sound/VGGSound/generated_audios/veo3/avsync_video/pLlHIfTP5R4_000030.mp4\n",
      "视频已保存至：/home/chengxin/chengxin/Dataset_Sound/VGGSound/generated_audios/veo3/avsync_video/pLlHIfTP5R4_000030.mp4\n",
      "5.4 5.39\n",
      "MoviePy - Building video /home/chengxin/chengxin/Dataset_Sound/VGGSound/generated_audios/veo3/avsync_video/hhKsZ_uP-m8_000072.mp4.\n",
      "MoviePy - Writing audio in hhKsZ_uP-m8_000072TEMP_MPY_wvf_snd.mp4\n"
     ]
    },
    {
     "name": "stderr",
     "output_type": "stream",
     "text": [
      " 83%|████████▎ | 249/300 [01:44<00:18,  2.70it/s]"
     ]
    },
    {
     "name": "stdout",
     "output_type": "stream",
     "text": [
      "MoviePy - Done.\n",
      "MoviePy - Writing video /home/chengxin/chengxin/Dataset_Sound/VGGSound/generated_audios/veo3/avsync_video/hhKsZ_uP-m8_000072.mp4\n",
      "\n"
     ]
    },
    {
     "name": "stderr",
     "output_type": "stream",
     "text": [
      " 84%|████████▎ | 251/300 [01:45<00:17,  2.83it/s]"
     ]
    },
    {
     "name": "stdout",
     "output_type": "stream",
     "text": [
      "MoviePy - Done !\n",
      "MoviePy - video ready /home/chengxin/chengxin/Dataset_Sound/VGGSound/generated_audios/veo3/avsync_video/hhKsZ_uP-m8_000072.mp4\n",
      "视频已保存至：/home/chengxin/chengxin/Dataset_Sound/VGGSound/generated_audios/veo3/avsync_video/hhKsZ_uP-m8_000072.mp4\n",
      "5.4 5.39\n",
      "MoviePy - Building video /home/chengxin/chengxin/Dataset_Sound/VGGSound/generated_audios/veo3/avsync_video/jvIuht_NQmI_000089.mp4.\n",
      "MoviePy - Writing audio in jvIuht_NQmI_000089TEMP_MPY_wvf_snd.mp4\n"
     ]
    },
    {
     "name": "stderr",
     "output_type": "stream",
     "text": [
      " 84%|████████▎ | 251/300 [01:45<00:17,  2.83it/s]"
     ]
    },
    {
     "name": "stdout",
     "output_type": "stream",
     "text": [
      "MoviePy - Done.\n",
      "MoviePy - Writing video /home/chengxin/chengxin/Dataset_Sound/VGGSound/generated_audios/veo3/avsync_video/jvIuht_NQmI_000089.mp4\n",
      "\n"
     ]
    },
    {
     "name": "stderr",
     "output_type": "stream",
     "text": [
      " 84%|████████▍ | 253/300 [01:45<00:17,  2.64it/s]"
     ]
    },
    {
     "name": "stdout",
     "output_type": "stream",
     "text": [
      "MoviePy - Done !\n",
      "MoviePy - video ready /home/chengxin/chengxin/Dataset_Sound/VGGSound/generated_audios/veo3/avsync_video/jvIuht_NQmI_000089.mp4\n",
      "视频已保存至：/home/chengxin/chengxin/Dataset_Sound/VGGSound/generated_audios/veo3/avsync_video/jvIuht_NQmI_000089.mp4\n",
      "5.4 5.39\n",
      "MoviePy - Building video /home/chengxin/chengxin/Dataset_Sound/VGGSound/generated_audios/veo3/avsync_video/q_sB0ur0mEA_000016.mp4.\n",
      "MoviePy - Writing audio in q_sB0ur0mEA_000016TEMP_MPY_wvf_snd.mp4\n"
     ]
    },
    {
     "name": "stderr",
     "output_type": "stream",
     "text": [
      " 84%|████████▍ | 253/300 [01:46<00:17,  2.64it/s]"
     ]
    },
    {
     "name": "stdout",
     "output_type": "stream",
     "text": [
      "MoviePy - Done.\n",
      "MoviePy - Writing video /home/chengxin/chengxin/Dataset_Sound/VGGSound/generated_audios/veo3/avsync_video/q_sB0ur0mEA_000016.mp4\n",
      "\n"
     ]
    },
    {
     "name": "stderr",
     "output_type": "stream",
     "text": [
      " 85%|████████▌ | 255/300 [01:46<00:16,  2.76it/s]"
     ]
    },
    {
     "name": "stdout",
     "output_type": "stream",
     "text": [
      "MoviePy - Done !\n",
      "MoviePy - video ready /home/chengxin/chengxin/Dataset_Sound/VGGSound/generated_audios/veo3/avsync_video/q_sB0ur0mEA_000016.mp4\n",
      "视频已保存至：/home/chengxin/chengxin/Dataset_Sound/VGGSound/generated_audios/veo3/avsync_video/q_sB0ur0mEA_000016.mp4\n",
      "5.4 5.39\n",
      "MoviePy - Building video /home/chengxin/chengxin/Dataset_Sound/VGGSound/generated_audios/veo3/avsync_video/rMGOF-XHU58_000010.mp4.\n",
      "MoviePy - Writing audio in rMGOF-XHU58_000010TEMP_MPY_wvf_snd.mp4\n"
     ]
    },
    {
     "name": "stderr",
     "output_type": "stream",
     "text": [
      " 85%|████████▌ | 255/300 [01:46<00:16,  2.76it/s]"
     ]
    },
    {
     "name": "stdout",
     "output_type": "stream",
     "text": [
      "MoviePy - Done.\n",
      "MoviePy - Writing video /home/chengxin/chengxin/Dataset_Sound/VGGSound/generated_audios/veo3/avsync_video/rMGOF-XHU58_000010.mp4\n",
      "\n"
     ]
    },
    {
     "name": "stderr",
     "output_type": "stream",
     "text": [
      " 86%|████████▌ | 257/300 [01:47<00:16,  2.62it/s]"
     ]
    },
    {
     "name": "stdout",
     "output_type": "stream",
     "text": [
      "MoviePy - Done !\n",
      "MoviePy - video ready /home/chengxin/chengxin/Dataset_Sound/VGGSound/generated_audios/veo3/avsync_video/rMGOF-XHU58_000010.mp4\n",
      "视频已保存至：/home/chengxin/chengxin/Dataset_Sound/VGGSound/generated_audios/veo3/avsync_video/rMGOF-XHU58_000010.mp4\n",
      "5.4 5.39\n",
      "MoviePy - Building video /home/chengxin/chengxin/Dataset_Sound/VGGSound/generated_audios/veo3/avsync_video/dIIiaO12I5Q_000006.mp4.\n",
      "MoviePy - Writing audio in dIIiaO12I5Q_000006TEMP_MPY_wvf_snd.mp4\n"
     ]
    },
    {
     "name": "stderr",
     "output_type": "stream",
     "text": [
      " 86%|████████▌ | 257/300 [01:47<00:16,  2.62it/s]"
     ]
    },
    {
     "name": "stdout",
     "output_type": "stream",
     "text": [
      "MoviePy - Done.\n",
      "MoviePy - Writing video /home/chengxin/chengxin/Dataset_Sound/VGGSound/generated_audios/veo3/avsync_video/dIIiaO12I5Q_000006.mp4\n",
      "\n"
     ]
    },
    {
     "name": "stderr",
     "output_type": "stream",
     "text": [
      " 86%|████████▋ | 259/300 [01:48<00:15,  2.59it/s]"
     ]
    },
    {
     "name": "stdout",
     "output_type": "stream",
     "text": [
      "MoviePy - Done !\n",
      "MoviePy - video ready /home/chengxin/chengxin/Dataset_Sound/VGGSound/generated_audios/veo3/avsync_video/dIIiaO12I5Q_000006.mp4\n",
      "视频已保存至：/home/chengxin/chengxin/Dataset_Sound/VGGSound/generated_audios/veo3/avsync_video/dIIiaO12I5Q_000006.mp4\n",
      "5.4 5.39\n",
      "MoviePy - Building video /home/chengxin/chengxin/Dataset_Sound/VGGSound/generated_audios/veo3/avsync_video/_tzXSoaZ644_000021.mp4.\n",
      "MoviePy - Writing audio in _tzXSoaZ644_000021TEMP_MPY_wvf_snd.mp4\n"
     ]
    },
    {
     "name": "stderr",
     "output_type": "stream",
     "text": [
      " 86%|████████▋ | 259/300 [01:48<00:15,  2.59it/s]"
     ]
    },
    {
     "name": "stdout",
     "output_type": "stream",
     "text": [
      "MoviePy - Done.\n",
      "MoviePy - Writing video /home/chengxin/chengxin/Dataset_Sound/VGGSound/generated_audios/veo3/avsync_video/_tzXSoaZ644_000021.mp4\n",
      "\n"
     ]
    },
    {
     "name": "stderr",
     "output_type": "stream",
     "text": [
      " 87%|████████▋ | 261/300 [01:49<00:15,  2.49it/s]"
     ]
    },
    {
     "name": "stdout",
     "output_type": "stream",
     "text": [
      "MoviePy - Done !\n",
      "MoviePy - video ready /home/chengxin/chengxin/Dataset_Sound/VGGSound/generated_audios/veo3/avsync_video/_tzXSoaZ644_000021.mp4\n",
      "视频已保存至：/home/chengxin/chengxin/Dataset_Sound/VGGSound/generated_audios/veo3/avsync_video/_tzXSoaZ644_000021.mp4\n",
      "5.4 5.39\n",
      "MoviePy - Building video /home/chengxin/chengxin/Dataset_Sound/VGGSound/generated_audios/veo3/avsync_video/i60k4LXneng_000016.mp4.\n",
      "MoviePy - Writing audio in i60k4LXneng_000016TEMP_MPY_wvf_snd.mp4\n"
     ]
    },
    {
     "name": "stderr",
     "output_type": "stream",
     "text": [
      " 87%|████████▋ | 261/300 [01:49<00:15,  2.49it/s]"
     ]
    },
    {
     "name": "stdout",
     "output_type": "stream",
     "text": [
      "MoviePy - Done.\n",
      "MoviePy - Writing video /home/chengxin/chengxin/Dataset_Sound/VGGSound/generated_audios/veo3/avsync_video/i60k4LXneng_000016.mp4\n",
      "\n"
     ]
    },
    {
     "name": "stderr",
     "output_type": "stream",
     "text": [
      " 88%|████████▊ | 263/300 [01:49<00:14,  2.60it/s]"
     ]
    },
    {
     "name": "stdout",
     "output_type": "stream",
     "text": [
      "MoviePy - Done !\n",
      "MoviePy - video ready /home/chengxin/chengxin/Dataset_Sound/VGGSound/generated_audios/veo3/avsync_video/i60k4LXneng_000016.mp4\n",
      "视频已保存至：/home/chengxin/chengxin/Dataset_Sound/VGGSound/generated_audios/veo3/avsync_video/i60k4LXneng_000016.mp4\n",
      "5.4 5.39\n",
      "MoviePy - Building video /home/chengxin/chengxin/Dataset_Sound/VGGSound/generated_audios/veo3/avsync_video/sxqKIm4LlF0_000024.mp4.\n",
      "MoviePy - Writing audio in sxqKIm4LlF0_000024TEMP_MPY_wvf_snd.mp4\n"
     ]
    },
    {
     "name": "stderr",
     "output_type": "stream",
     "text": [
      " 88%|████████▊ | 263/300 [01:50<00:14,  2.60it/s]"
     ]
    },
    {
     "name": "stdout",
     "output_type": "stream",
     "text": [
      "MoviePy - Done.\n",
      "MoviePy - Writing video /home/chengxin/chengxin/Dataset_Sound/VGGSound/generated_audios/veo3/avsync_video/sxqKIm4LlF0_000024.mp4\n",
      "\n"
     ]
    },
    {
     "name": "stderr",
     "output_type": "stream",
     "text": [
      " 88%|████████▊ | 265/300 [01:50<00:14,  2.37it/s]"
     ]
    },
    {
     "name": "stdout",
     "output_type": "stream",
     "text": [
      "MoviePy - Done !\n",
      "MoviePy - video ready /home/chengxin/chengxin/Dataset_Sound/VGGSound/generated_audios/veo3/avsync_video/sxqKIm4LlF0_000024.mp4\n",
      "视频已保存至：/home/chengxin/chengxin/Dataset_Sound/VGGSound/generated_audios/veo3/avsync_video/sxqKIm4LlF0_000024.mp4\n",
      "5.4 5.39\n",
      "MoviePy - Building video /home/chengxin/chengxin/Dataset_Sound/VGGSound/generated_audios/veo3/avsync_video/r1JpF0ovMFA_000034.mp4.\n",
      "MoviePy - Writing audio in r1JpF0ovMFA_000034TEMP_MPY_wvf_snd.mp4\n"
     ]
    },
    {
     "name": "stderr",
     "output_type": "stream",
     "text": [
      " 88%|████████▊ | 265/300 [01:51<00:14,  2.37it/s]"
     ]
    },
    {
     "name": "stdout",
     "output_type": "stream",
     "text": [
      "MoviePy - Done.\n",
      "MoviePy - Writing video /home/chengxin/chengxin/Dataset_Sound/VGGSound/generated_audios/veo3/avsync_video/r1JpF0ovMFA_000034.mp4\n",
      "\n"
     ]
    },
    {
     "name": "stderr",
     "output_type": "stream",
     "text": [
      "                                                 \r"
     ]
    },
    {
     "name": "stdout",
     "output_type": "stream",
     "text": [
      "MoviePy - Done !\n",
      "MoviePy - video ready /home/chengxin/chengxin/Dataset_Sound/VGGSound/generated_audios/veo3/avsync_video/r1JpF0ovMFA_000034.mp4\n",
      "视频已保存至：/home/chengxin/chengxin/Dataset_Sound/VGGSound/generated_audios/veo3/avsync_video/r1JpF0ovMFA_000034.mp4\n",
      "5.4 5.39\n",
      "MoviePy - Building video /home/chengxin/chengxin/Dataset_Sound/VGGSound/generated_audios/veo3/avsync_video/fWqXK1PQfOc_000134.mp4.\n"
     ]
    },
    {
     "name": "stderr",
     "output_type": "stream",
     "text": [
      " 89%|████████▉ | 267/300 [01:51<00:14,  2.34it/s]"
     ]
    },
    {
     "name": "stdout",
     "output_type": "stream",
     "text": [
      "MoviePy - Writing audio in fWqXK1PQfOc_000134TEMP_MPY_wvf_snd.mp4\n"
     ]
    },
    {
     "name": "stderr",
     "output_type": "stream",
     "text": [
      " 89%|████████▉ | 267/300 [01:52<00:14,  2.34it/s]"
     ]
    },
    {
     "name": "stdout",
     "output_type": "stream",
     "text": [
      "MoviePy - Done.\n",
      "MoviePy - Writing video /home/chengxin/chengxin/Dataset_Sound/VGGSound/generated_audios/veo3/avsync_video/fWqXK1PQfOc_000134.mp4\n",
      "\n"
     ]
    },
    {
     "name": "stderr",
     "output_type": "stream",
     "text": [
      " 90%|████████▉ | 269/300 [01:52<00:13,  2.24it/s]"
     ]
    },
    {
     "name": "stdout",
     "output_type": "stream",
     "text": [
      "MoviePy - Done !\n",
      "MoviePy - video ready /home/chengxin/chengxin/Dataset_Sound/VGGSound/generated_audios/veo3/avsync_video/fWqXK1PQfOc_000134.mp4\n",
      "视频已保存至：/home/chengxin/chengxin/Dataset_Sound/VGGSound/generated_audios/veo3/avsync_video/fWqXK1PQfOc_000134.mp4\n",
      "5.4 5.39\n",
      "MoviePy - Building video /home/chengxin/chengxin/Dataset_Sound/VGGSound/generated_audios/veo3/avsync_video/ao6-Npm2Cbw_000030.mp4.\n",
      "MoviePy - Writing audio in ao6-Npm2Cbw_000030TEMP_MPY_wvf_snd.mp4\n"
     ]
    },
    {
     "name": "stderr",
     "output_type": "stream",
     "text": [
      " 90%|████████▉ | 269/300 [01:52<00:13,  2.24it/s]"
     ]
    },
    {
     "name": "stdout",
     "output_type": "stream",
     "text": [
      "MoviePy - Done.\n",
      "MoviePy - Writing video /home/chengxin/chengxin/Dataset_Sound/VGGSound/generated_audios/veo3/avsync_video/ao6-Npm2Cbw_000030.mp4\n",
      "\n"
     ]
    },
    {
     "name": "stderr",
     "output_type": "stream",
     "text": [
      " 90%|█████████ | 271/300 [01:53<00:12,  2.30it/s]"
     ]
    },
    {
     "name": "stdout",
     "output_type": "stream",
     "text": [
      "MoviePy - Done !\n",
      "MoviePy - video ready /home/chengxin/chengxin/Dataset_Sound/VGGSound/generated_audios/veo3/avsync_video/ao6-Npm2Cbw_000030.mp4\n",
      "视频已保存至：/home/chengxin/chengxin/Dataset_Sound/VGGSound/generated_audios/veo3/avsync_video/ao6-Npm2Cbw_000030.mp4\n",
      "5.4 5.39\n",
      "MoviePy - Building video /home/chengxin/chengxin/Dataset_Sound/VGGSound/generated_audios/veo3/avsync_video/sxJjC9HC1Xs_000310.mp4.\n",
      "MoviePy - Writing audio in sxJjC9HC1Xs_000310TEMP_MPY_wvf_snd.mp4\n"
     ]
    },
    {
     "name": "stderr",
     "output_type": "stream",
     "text": [
      " 90%|█████████ | 271/300 [01:53<00:12,  2.30it/s]"
     ]
    },
    {
     "name": "stdout",
     "output_type": "stream",
     "text": [
      "MoviePy - Done.\n",
      "MoviePy - Writing video /home/chengxin/chengxin/Dataset_Sound/VGGSound/generated_audios/veo3/avsync_video/sxJjC9HC1Xs_000310.mp4\n",
      "\n"
     ]
    },
    {
     "name": "stderr",
     "output_type": "stream",
     "text": [
      " 91%|█████████ | 273/300 [01:54<00:11,  2.29it/s]"
     ]
    },
    {
     "name": "stdout",
     "output_type": "stream",
     "text": [
      "MoviePy - Done !\n",
      "MoviePy - video ready /home/chengxin/chengxin/Dataset_Sound/VGGSound/generated_audios/veo3/avsync_video/sxJjC9HC1Xs_000310.mp4\n",
      "视频已保存至：/home/chengxin/chengxin/Dataset_Sound/VGGSound/generated_audios/veo3/avsync_video/sxJjC9HC1Xs_000310.mp4\n",
      "5.4 5.39\n",
      "MoviePy - Building video /home/chengxin/chengxin/Dataset_Sound/VGGSound/generated_audios/veo3/avsync_video/tBQf0NWgLbg_000040.mp4.\n",
      "MoviePy - Writing audio in tBQf0NWgLbg_000040TEMP_MPY_wvf_snd.mp4\n"
     ]
    },
    {
     "name": "stderr",
     "output_type": "stream",
     "text": [
      " 91%|█████████ | 273/300 [01:54<00:11,  2.29it/s]"
     ]
    },
    {
     "name": "stdout",
     "output_type": "stream",
     "text": [
      "MoviePy - Done.\n",
      "MoviePy - Writing video /home/chengxin/chengxin/Dataset_Sound/VGGSound/generated_audios/veo3/avsync_video/tBQf0NWgLbg_000040.mp4\n",
      "\n"
     ]
    },
    {
     "name": "stderr",
     "output_type": "stream",
     "text": [
      " 92%|█████████▏| 275/300 [01:55<00:10,  2.48it/s]"
     ]
    },
    {
     "name": "stdout",
     "output_type": "stream",
     "text": [
      "MoviePy - Done !\n",
      "MoviePy - video ready /home/chengxin/chengxin/Dataset_Sound/VGGSound/generated_audios/veo3/avsync_video/tBQf0NWgLbg_000040.mp4\n",
      "视频已保存至：/home/chengxin/chengxin/Dataset_Sound/VGGSound/generated_audios/veo3/avsync_video/tBQf0NWgLbg_000040.mp4\n",
      "5.4 5.39\n",
      "MoviePy - Building video /home/chengxin/chengxin/Dataset_Sound/VGGSound/generated_audios/veo3/avsync_video/qHqTC2CL0cQ_000016.mp4.\n",
      "MoviePy - Writing audio in qHqTC2CL0cQ_000016TEMP_MPY_wvf_snd.mp4\n"
     ]
    },
    {
     "name": "stderr",
     "output_type": "stream",
     "text": [
      " 92%|█████████▏| 275/300 [01:55<00:10,  2.48it/s]"
     ]
    },
    {
     "name": "stdout",
     "output_type": "stream",
     "text": [
      "MoviePy - Done.\n",
      "MoviePy - Writing video /home/chengxin/chengxin/Dataset_Sound/VGGSound/generated_audios/veo3/avsync_video/qHqTC2CL0cQ_000016.mp4\n",
      "\n"
     ]
    },
    {
     "name": "stderr",
     "output_type": "stream",
     "text": [
      " 92%|█████████▏| 277/300 [01:55<00:09,  2.40it/s]"
     ]
    },
    {
     "name": "stdout",
     "output_type": "stream",
     "text": [
      "MoviePy - Done !\n",
      "MoviePy - video ready /home/chengxin/chengxin/Dataset_Sound/VGGSound/generated_audios/veo3/avsync_video/qHqTC2CL0cQ_000016.mp4\n",
      "视频已保存至：/home/chengxin/chengxin/Dataset_Sound/VGGSound/generated_audios/veo3/avsync_video/qHqTC2CL0cQ_000016.mp4\n",
      "5.4 5.39\n",
      "MoviePy - Building video /home/chengxin/chengxin/Dataset_Sound/VGGSound/generated_audios/veo3/avsync_video/stnD0ZE3bAQ_000030.mp4.\n",
      "MoviePy - Writing audio in stnD0ZE3bAQ_000030TEMP_MPY_wvf_snd.mp4\n"
     ]
    },
    {
     "name": "stderr",
     "output_type": "stream",
     "text": [
      " 92%|█████████▏| 277/300 [01:56<00:09,  2.40it/s]"
     ]
    },
    {
     "name": "stdout",
     "output_type": "stream",
     "text": [
      "MoviePy - Done.\n",
      "MoviePy - Writing video /home/chengxin/chengxin/Dataset_Sound/VGGSound/generated_audios/veo3/avsync_video/stnD0ZE3bAQ_000030.mp4\n",
      "\n"
     ]
    },
    {
     "name": "stderr",
     "output_type": "stream",
     "text": [
      " 93%|█████████▎| 279/300 [01:56<00:09,  2.23it/s]"
     ]
    },
    {
     "name": "stdout",
     "output_type": "stream",
     "text": [
      "MoviePy - Done !\n",
      "MoviePy - video ready /home/chengxin/chengxin/Dataset_Sound/VGGSound/generated_audios/veo3/avsync_video/stnD0ZE3bAQ_000030.mp4\n",
      "视频已保存至：/home/chengxin/chengxin/Dataset_Sound/VGGSound/generated_audios/veo3/avsync_video/stnD0ZE3bAQ_000030.mp4\n",
      "5.4 5.39\n",
      "MoviePy - Building video /home/chengxin/chengxin/Dataset_Sound/VGGSound/generated_audios/veo3/avsync_video/x3ytjRxhNf4_000028.mp4.\n",
      "MoviePy - Writing audio in x3ytjRxhNf4_000028TEMP_MPY_wvf_snd.mp4\n"
     ]
    },
    {
     "name": "stderr",
     "output_type": "stream",
     "text": [
      " 93%|█████████▎| 279/300 [01:57<00:09,  2.23it/s]"
     ]
    },
    {
     "name": "stdout",
     "output_type": "stream",
     "text": [
      "MoviePy - Done.\n",
      "MoviePy - Writing video /home/chengxin/chengxin/Dataset_Sound/VGGSound/generated_audios/veo3/avsync_video/x3ytjRxhNf4_000028.mp4\n",
      "\n"
     ]
    },
    {
     "name": "stderr",
     "output_type": "stream",
     "text": [
      " 94%|█████████▎| 281/300 [01:57<00:08,  2.27it/s]"
     ]
    },
    {
     "name": "stdout",
     "output_type": "stream",
     "text": [
      "MoviePy - Done !\n",
      "MoviePy - video ready /home/chengxin/chengxin/Dataset_Sound/VGGSound/generated_audios/veo3/avsync_video/x3ytjRxhNf4_000028.mp4\n",
      "视频已保存至：/home/chengxin/chengxin/Dataset_Sound/VGGSound/generated_audios/veo3/avsync_video/x3ytjRxhNf4_000028.mp4\n",
      "5.4 5.39\n",
      "MoviePy - Building video /home/chengxin/chengxin/Dataset_Sound/VGGSound/generated_audios/veo3/avsync_video/uA5__Dby1C0_000170.mp4.\n",
      "MoviePy - Writing audio in uA5__Dby1C0_000170TEMP_MPY_wvf_snd.mp4\n"
     ]
    },
    {
     "name": "stderr",
     "output_type": "stream",
     "text": [
      " 94%|█████████▎| 281/300 [01:57<00:08,  2.27it/s]"
     ]
    },
    {
     "name": "stdout",
     "output_type": "stream",
     "text": [
      "MoviePy - Done.\n",
      "MoviePy - Writing video /home/chengxin/chengxin/Dataset_Sound/VGGSound/generated_audios/veo3/avsync_video/uA5__Dby1C0_000170.mp4\n",
      "\n"
     ]
    },
    {
     "name": "stderr",
     "output_type": "stream",
     "text": [
      " 94%|█████████▍| 283/300 [01:58<00:06,  2.46it/s]"
     ]
    },
    {
     "name": "stdout",
     "output_type": "stream",
     "text": [
      "MoviePy - Done !\n",
      "MoviePy - video ready /home/chengxin/chengxin/Dataset_Sound/VGGSound/generated_audios/veo3/avsync_video/uA5__Dby1C0_000170.mp4\n",
      "视频已保存至：/home/chengxin/chengxin/Dataset_Sound/VGGSound/generated_audios/veo3/avsync_video/uA5__Dby1C0_000170.mp4\n",
      "5.4 5.39\n",
      "MoviePy - Building video /home/chengxin/chengxin/Dataset_Sound/VGGSound/generated_audios/veo3/avsync_video/tx7XKy_4f4c_000005.mp4.\n",
      "MoviePy - Writing audio in tx7XKy_4f4c_000005TEMP_MPY_wvf_snd.mp4\n"
     ]
    },
    {
     "name": "stderr",
     "output_type": "stream",
     "text": [
      " 94%|█████████▍| 283/300 [01:58<00:06,  2.46it/s]"
     ]
    },
    {
     "name": "stdout",
     "output_type": "stream",
     "text": [
      "MoviePy - Done.\n",
      "MoviePy - Writing video /home/chengxin/chengxin/Dataset_Sound/VGGSound/generated_audios/veo3/avsync_video/tx7XKy_4f4c_000005.mp4\n",
      "\n"
     ]
    },
    {
     "name": "stderr",
     "output_type": "stream",
     "text": [
      " 95%|█████████▌| 285/300 [01:59<00:06,  2.38it/s]"
     ]
    },
    {
     "name": "stdout",
     "output_type": "stream",
     "text": [
      "MoviePy - Done !\n",
      "MoviePy - video ready /home/chengxin/chengxin/Dataset_Sound/VGGSound/generated_audios/veo3/avsync_video/tx7XKy_4f4c_000005.mp4\n",
      "视频已保存至：/home/chengxin/chengxin/Dataset_Sound/VGGSound/generated_audios/veo3/avsync_video/tx7XKy_4f4c_000005.mp4\n",
      "5.4 5.39\n",
      "MoviePy - Building video /home/chengxin/chengxin/Dataset_Sound/VGGSound/generated_audios/veo3/avsync_video/tEfjBCYLEVI_000011.mp4.\n",
      "MoviePy - Writing audio in tEfjBCYLEVI_000011TEMP_MPY_wvf_snd.mp4\n"
     ]
    },
    {
     "name": "stderr",
     "output_type": "stream",
     "text": [
      " 95%|█████████▌| 285/300 [01:59<00:06,  2.38it/s]"
     ]
    },
    {
     "name": "stdout",
     "output_type": "stream",
     "text": [
      "MoviePy - Done.\n",
      "MoviePy - Writing video /home/chengxin/chengxin/Dataset_Sound/VGGSound/generated_audios/veo3/avsync_video/tEfjBCYLEVI_000011.mp4\n",
      "\n"
     ]
    },
    {
     "name": "stderr",
     "output_type": "stream",
     "text": [
      " 96%|█████████▌| 287/300 [02:00<00:05,  2.28it/s]"
     ]
    },
    {
     "name": "stdout",
     "output_type": "stream",
     "text": [
      "MoviePy - Done !\n",
      "MoviePy - video ready /home/chengxin/chengxin/Dataset_Sound/VGGSound/generated_audios/veo3/avsync_video/tEfjBCYLEVI_000011.mp4\n",
      "视频已保存至：/home/chengxin/chengxin/Dataset_Sound/VGGSound/generated_audios/veo3/avsync_video/tEfjBCYLEVI_000011.mp4\n",
      "5.4 5.39\n",
      "MoviePy - Building video /home/chengxin/chengxin/Dataset_Sound/VGGSound/generated_audios/veo3/avsync_video/vcT8gClKYTs_000013.mp4.\n",
      "MoviePy - Writing audio in vcT8gClKYTs_000013TEMP_MPY_wvf_snd.mp4\n"
     ]
    },
    {
     "name": "stderr",
     "output_type": "stream",
     "text": [
      " 96%|█████████▌| 287/300 [02:00<00:05,  2.28it/s]"
     ]
    },
    {
     "name": "stdout",
     "output_type": "stream",
     "text": [
      "MoviePy - Done.\n",
      "MoviePy - Writing video /home/chengxin/chengxin/Dataset_Sound/VGGSound/generated_audios/veo3/avsync_video/vcT8gClKYTs_000013.mp4\n",
      "\n"
     ]
    },
    {
     "name": "stderr",
     "output_type": "stream",
     "text": [
      " 96%|█████████▋| 289/300 [02:01<00:04,  2.41it/s]"
     ]
    },
    {
     "name": "stdout",
     "output_type": "stream",
     "text": [
      "MoviePy - Done !\n",
      "MoviePy - video ready /home/chengxin/chengxin/Dataset_Sound/VGGSound/generated_audios/veo3/avsync_video/vcT8gClKYTs_000013.mp4\n",
      "视频已保存至：/home/chengxin/chengxin/Dataset_Sound/VGGSound/generated_audios/veo3/avsync_video/vcT8gClKYTs_000013.mp4\n",
      "5.4 5.39\n",
      "MoviePy - Building video /home/chengxin/chengxin/Dataset_Sound/VGGSound/generated_audios/veo3/avsync_video/zm-1vgWuexY_000030.mp4.\n",
      "MoviePy - Writing audio in zm-1vgWuexY_000030TEMP_MPY_wvf_snd.mp4\n"
     ]
    },
    {
     "name": "stderr",
     "output_type": "stream",
     "text": [
      " 96%|█████████▋| 289/300 [02:01<00:04,  2.41it/s]"
     ]
    },
    {
     "name": "stdout",
     "output_type": "stream",
     "text": [
      "MoviePy - Done.\n",
      "MoviePy - Writing video /home/chengxin/chengxin/Dataset_Sound/VGGSound/generated_audios/veo3/avsync_video/zm-1vgWuexY_000030.mp4\n",
      "\n"
     ]
    },
    {
     "name": "stderr",
     "output_type": "stream",
     "text": [
      " 97%|█████████▋| 291/300 [02:01<00:03,  2.36it/s]"
     ]
    },
    {
     "name": "stdout",
     "output_type": "stream",
     "text": [
      "MoviePy - Done !\n",
      "MoviePy - video ready /home/chengxin/chengxin/Dataset_Sound/VGGSound/generated_audios/veo3/avsync_video/zm-1vgWuexY_000030.mp4\n",
      "视频已保存至：/home/chengxin/chengxin/Dataset_Sound/VGGSound/generated_audios/veo3/avsync_video/zm-1vgWuexY_000030.mp4\n",
      "5.4 5.39\n",
      "MoviePy - Building video /home/chengxin/chengxin/Dataset_Sound/VGGSound/generated_audios/veo3/avsync_video/uxEdTjXT-rs_000030.mp4.\n",
      "MoviePy - Writing audio in uxEdTjXT-rs_000030TEMP_MPY_wvf_snd.mp4\n"
     ]
    },
    {
     "name": "stderr",
     "output_type": "stream",
     "text": [
      " 97%|█████████▋| 291/300 [02:02<00:03,  2.36it/s]"
     ]
    },
    {
     "name": "stdout",
     "output_type": "stream",
     "text": [
      "MoviePy - Done.\n",
      "MoviePy - Writing video /home/chengxin/chengxin/Dataset_Sound/VGGSound/generated_audios/veo3/avsync_video/uxEdTjXT-rs_000030.mp4\n",
      "\n"
     ]
    },
    {
     "name": "stderr",
     "output_type": "stream",
     "text": [
      " 98%|█████████▊| 293/300 [02:02<00:03,  2.33it/s]"
     ]
    },
    {
     "name": "stdout",
     "output_type": "stream",
     "text": [
      "MoviePy - Done !\n",
      "MoviePy - video ready /home/chengxin/chengxin/Dataset_Sound/VGGSound/generated_audios/veo3/avsync_video/uxEdTjXT-rs_000030.mp4\n",
      "视频已保存至：/home/chengxin/chengxin/Dataset_Sound/VGGSound/generated_audios/veo3/avsync_video/uxEdTjXT-rs_000030.mp4\n",
      "5.4 5.39\n",
      "MoviePy - Building video /home/chengxin/chengxin/Dataset_Sound/VGGSound/generated_audios/veo3/avsync_video/yUZMpGwS-OI_000230.mp4.\n",
      "MoviePy - Writing audio in yUZMpGwS-OI_000230TEMP_MPY_wvf_snd.mp4\n"
     ]
    },
    {
     "name": "stderr",
     "output_type": "stream",
     "text": [
      " 98%|█████████▊| 293/300 [02:03<00:03,  2.33it/s]"
     ]
    },
    {
     "name": "stdout",
     "output_type": "stream",
     "text": [
      "MoviePy - Done.\n",
      "MoviePy - Writing video /home/chengxin/chengxin/Dataset_Sound/VGGSound/generated_audios/veo3/avsync_video/yUZMpGwS-OI_000230.mp4\n",
      "\n"
     ]
    },
    {
     "name": "stderr",
     "output_type": "stream",
     "text": [
      " 98%|█████████▊| 295/300 [02:03<00:02,  2.30it/s]"
     ]
    },
    {
     "name": "stdout",
     "output_type": "stream",
     "text": [
      "MoviePy - Done !\n",
      "MoviePy - video ready /home/chengxin/chengxin/Dataset_Sound/VGGSound/generated_audios/veo3/avsync_video/yUZMpGwS-OI_000230.mp4\n",
      "视频已保存至：/home/chengxin/chengxin/Dataset_Sound/VGGSound/generated_audios/veo3/avsync_video/yUZMpGwS-OI_000230.mp4\n"
     ]
    },
    {
     "name": "stderr",
     "output_type": "stream",
     "text": [
      " 98%|█████████▊| 295/300 [02:04<00:02,  2.30it/s]"
     ]
    },
    {
     "name": "stdout",
     "output_type": "stream",
     "text": [
      "5.4 5.39\n",
      "MoviePy - Building video /home/chengxin/chengxin/Dataset_Sound/VGGSound/generated_audios/veo3/avsync_video/yFuDYRwZ3EA_000237.mp4.\n",
      "MoviePy - Writing audio in yFuDYRwZ3EA_000237TEMP_MPY_wvf_snd.mp4\n"
     ]
    },
    {
     "name": "stderr",
     "output_type": "stream",
     "text": [
      " 98%|█████████▊| 295/300 [02:04<00:02,  2.30it/s]"
     ]
    },
    {
     "name": "stdout",
     "output_type": "stream",
     "text": [
      "MoviePy - Done.\n",
      "MoviePy - Writing video /home/chengxin/chengxin/Dataset_Sound/VGGSound/generated_audios/veo3/avsync_video/yFuDYRwZ3EA_000237.mp4\n",
      "\n"
     ]
    },
    {
     "name": "stderr",
     "output_type": "stream",
     "text": [
      " 99%|█████████▉| 297/300 [02:05<00:01,  1.73it/s]"
     ]
    },
    {
     "name": "stdout",
     "output_type": "stream",
     "text": [
      "MoviePy - Done !\n",
      "MoviePy - video ready /home/chengxin/chengxin/Dataset_Sound/VGGSound/generated_audios/veo3/avsync_video/yFuDYRwZ3EA_000237.mp4\n",
      "视频已保存至：/home/chengxin/chengxin/Dataset_Sound/VGGSound/generated_audios/veo3/avsync_video/yFuDYRwZ3EA_000237.mp4\n",
      "5.4 5.39\n",
      "MoviePy - Building video /home/chengxin/chengxin/Dataset_Sound/VGGSound/generated_audios/veo3/avsync_video/weSfQmkG35I_000002.mp4.\n",
      "MoviePy - Writing audio in weSfQmkG35I_000002TEMP_MPY_wvf_snd.mp4\n"
     ]
    },
    {
     "name": "stderr",
     "output_type": "stream",
     "text": [
      " 99%|█████████▉| 297/300 [02:05<00:01,  1.73it/s]"
     ]
    },
    {
     "name": "stdout",
     "output_type": "stream",
     "text": [
      "MoviePy - Done.\n",
      "MoviePy - Writing video /home/chengxin/chengxin/Dataset_Sound/VGGSound/generated_audios/veo3/avsync_video/weSfQmkG35I_000002.mp4\n",
      "\n"
     ]
    },
    {
     "name": "stderr",
     "output_type": "stream",
     "text": [
      "100%|██████████| 300/300 [02:06<00:00,  2.38it/s]"
     ]
    },
    {
     "name": "stdout",
     "output_type": "stream",
     "text": [
      "MoviePy - Done !\n",
      "MoviePy - video ready /home/chengxin/chengxin/Dataset_Sound/VGGSound/generated_audios/veo3/avsync_video/weSfQmkG35I_000002.mp4\n",
      "视频已保存至：/home/chengxin/chengxin/Dataset_Sound/VGGSound/generated_audios/veo3/avsync_video/weSfQmkG35I_000002.mp4\n"
     ]
    },
    {
     "name": "stderr",
     "output_type": "stream",
     "text": [
      "\n"
     ]
    }
   ],
   "source": [
    "from utils.va_processing import add_audio_to_video\n",
    "from glob import glob\n",
    "from tqdm import tqdm\n",
    "import os\n",
    "import shutil\n",
    "\n",
    "input_dir = '/home/chengxin/chengxin/vagen/log/wan_sd_ttva_55/logging/9000'\n",
    "output_dir = '/home/chengxin/chengxin/Dataset_Sound/VGGSound/generated_audios/veo3/avsync_video'\n",
    "for path in tqdm(glob(f'{input_dir}/*.mp4')):\n",
    "    v_path =  f\"{input_dir}/{path.split('/')[-1][:-4]}.mp4\"\n",
    "    a_path =  f\"{input_dir}/{path.split('/')[-1][:-4]}.wav\"\n",
    "    o_path = f\"{output_dir}/{path.split('/')[-1][:-4]}.mp4\"\n",
    "    if os.path.exists(a_path):\n",
    "        add_audio_to_video(video_path = v_path, audio_path = a_path, output_path = o_path)\n"
   ]
  }
 ],
 "metadata": {
  "kernelspec": {
   "display_name": "veo3",
   "language": "python",
   "name": "python3"
  },
  "language_info": {
   "codemirror_mode": {
    "name": "ipython",
    "version": 3
   },
   "file_extension": ".py",
   "mimetype": "text/x-python",
   "name": "python",
   "nbconvert_exporter": "python",
   "pygments_lexer": "ipython3",
   "version": "3.10.16"
  }
 },
 "nbformat": 4,
 "nbformat_minor": 5
}
